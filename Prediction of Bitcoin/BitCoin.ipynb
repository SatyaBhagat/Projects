{
 "cells": [
  {
   "cell_type": "markdown",
   "metadata": {},
   "source": [
    "### Project 1\n",
    "\n",
    "Project description: \n",
    "- Read data into Jupyter notebook, use pandas to import data into a data frame\n",
    "- preprocess data: explore data, address missing data, categorical data, if there is any, and data scaling. Justify the type of scaling used in this project. \n",
    "- train your dataset using all the linear regression models you've learned so far. If your model has a scaling parameter(s) use Grid Search to find the best scaling parameter. Use plots and graphs to help you get a better glimpse of the results. \n",
    "- Then use cross validation to find average training and testing score. \n",
    "- Your submission should have at least the following regression models: KNN repressor, linear regression, Ridge, Lasso, polynomial regression, SVM both simple and with kernels. \n",
    "- Finally find the best repressor for this dataset and train your model on the entire dataset using the best parameters and predict the market price for the test_set.\n",
    "- submit IPython notebook. Use markdown to provide an inline report for this project."
   ]
  },
  {
   "cell_type": "markdown",
   "metadata": {},
   "source": [
    "##### <font color = 'red'> Important note: All the group members should participate in completing this project.  This includes coding, preparing report and testing the models. "
   ]
  },
  {
   "cell_type": "markdown",
   "metadata": {},
   "source": [
    "# Importing Packages"
   ]
  },
  {
   "cell_type": "code",
   "execution_count": 1,
   "metadata": {
    "collapsed": true
   },
   "outputs": [],
   "source": [
    "import pandas as pd\n",
    "import numpy as np\n",
    "from datetime import datetime\n",
    "import matplotlib.pyplot as plt\n",
    "from sklearn.model_selection import train_test_split\n",
    "from sklearn.linear_model import LogisticRegression\n",
    "from sklearn.neighbors import KNeighborsRegressor\n",
    "from sklearn.linear_model import Ridge\n",
    "from sklearn.linear_model import RidgeCV\n",
    "from sklearn.linear_model import Lasso\n",
    "from sklearn.linear_model import LassoCV\n",
    "from sklearn.preprocessing import PolynomialFeatures\n",
    "from sklearn.svm import SVR\n",
    "from sklearn.preprocessing import MinMaxScaler\n",
    "from sklearn.model_selection import cross_val_score\n",
    "from sklearn.model_selection import GridSearchCV"
   ]
  },
  {
   "cell_type": "markdown",
   "metadata": {},
   "source": [
    "# Loading Data"
   ]
  },
  {
   "cell_type": "code",
   "execution_count": 2,
   "metadata": {},
   "outputs": [
    {
     "data": {
      "text/html": [
       "<div>\n",
       "<style>\n",
       "    .dataframe thead tr:only-child th {\n",
       "        text-align: right;\n",
       "    }\n",
       "\n",
       "    .dataframe thead th {\n",
       "        text-align: left;\n",
       "    }\n",
       "\n",
       "    .dataframe tbody tr th {\n",
       "        vertical-align: top;\n",
       "    }\n",
       "</style>\n",
       "<table border=\"1\" class=\"dataframe\">\n",
       "  <thead>\n",
       "    <tr style=\"text-align: right;\">\n",
       "      <th></th>\n",
       "      <th>Date</th>\n",
       "      <th>btc_market_price</th>\n",
       "      <th>btc_total_bitcoins</th>\n",
       "      <th>btc_market_cap</th>\n",
       "      <th>btc_trade_volume</th>\n",
       "      <th>btc_blocks_size</th>\n",
       "      <th>btc_avg_block_size</th>\n",
       "      <th>btc_n_orphaned_blocks</th>\n",
       "      <th>btc_n_transactions_per_block</th>\n",
       "      <th>btc_median_confirmation_time</th>\n",
       "      <th>...</th>\n",
       "      <th>btc_cost_per_transaction_percent</th>\n",
       "      <th>btc_cost_per_transaction</th>\n",
       "      <th>btc_n_unique_addresses</th>\n",
       "      <th>btc_n_transactions</th>\n",
       "      <th>btc_n_transactions_total</th>\n",
       "      <th>btc_n_transactions_excluding_popular</th>\n",
       "      <th>btc_n_transactions_excluding_chains_longer_than_100</th>\n",
       "      <th>btc_output_volume</th>\n",
       "      <th>btc_estimated_transaction_volume</th>\n",
       "      <th>btc_estimated_transaction_volume_usd</th>\n",
       "    </tr>\n",
       "  </thead>\n",
       "  <tbody>\n",
       "    <tr>\n",
       "      <th>0</th>\n",
       "      <td>2/17/2010 0:00</td>\n",
       "      <td>0.0</td>\n",
       "      <td>2043200.0</td>\n",
       "      <td>0.0</td>\n",
       "      <td>0.0</td>\n",
       "      <td>0.0</td>\n",
       "      <td>0.000235</td>\n",
       "      <td>0</td>\n",
       "      <td>1.0</td>\n",
       "      <td>0.0</td>\n",
       "      <td>...</td>\n",
       "      <td>31.781022</td>\n",
       "      <td>0.0</td>\n",
       "      <td>241</td>\n",
       "      <td>244</td>\n",
       "      <td>41240</td>\n",
       "      <td>244</td>\n",
       "      <td>244</td>\n",
       "      <td>65173.13</td>\n",
       "      <td>36500.0</td>\n",
       "      <td>0.0</td>\n",
       "    </tr>\n",
       "    <tr>\n",
       "      <th>1</th>\n",
       "      <td>2/18/2010 0:00</td>\n",
       "      <td>0.0</td>\n",
       "      <td>2054650.0</td>\n",
       "      <td>0.0</td>\n",
       "      <td>0.0</td>\n",
       "      <td>0.0</td>\n",
       "      <td>0.000241</td>\n",
       "      <td>0</td>\n",
       "      <td>1.0</td>\n",
       "      <td>0.0</td>\n",
       "      <td>...</td>\n",
       "      <td>154.463801</td>\n",
       "      <td>0.0</td>\n",
       "      <td>234</td>\n",
       "      <td>235</td>\n",
       "      <td>41475</td>\n",
       "      <td>235</td>\n",
       "      <td>235</td>\n",
       "      <td>18911.74</td>\n",
       "      <td>7413.0</td>\n",
       "      <td>0.0</td>\n",
       "    </tr>\n",
       "    <tr>\n",
       "      <th>2</th>\n",
       "      <td>2/19/2010 0:00</td>\n",
       "      <td>0.0</td>\n",
       "      <td>2063600.0</td>\n",
       "      <td>0.0</td>\n",
       "      <td>0.0</td>\n",
       "      <td>0.0</td>\n",
       "      <td>0.000228</td>\n",
       "      <td>0</td>\n",
       "      <td>1.0</td>\n",
       "      <td>0.0</td>\n",
       "      <td>...</td>\n",
       "      <td>1278.516635</td>\n",
       "      <td>0.0</td>\n",
       "      <td>185</td>\n",
       "      <td>183</td>\n",
       "      <td>41658</td>\n",
       "      <td>183</td>\n",
       "      <td>183</td>\n",
       "      <td>9749.98</td>\n",
       "      <td>700.0</td>\n",
       "      <td>0.0</td>\n",
       "    </tr>\n",
       "    <tr>\n",
       "      <th>3</th>\n",
       "      <td>2/20/2010 0:00</td>\n",
       "      <td>0.0</td>\n",
       "      <td>2074700.0</td>\n",
       "      <td>0.0</td>\n",
       "      <td>0.0</td>\n",
       "      <td>0.0</td>\n",
       "      <td>0.000218</td>\n",
       "      <td>0</td>\n",
       "      <td>1.0</td>\n",
       "      <td>0.0</td>\n",
       "      <td>...</td>\n",
       "      <td>22186.687990</td>\n",
       "      <td>0.0</td>\n",
       "      <td>224</td>\n",
       "      <td>224</td>\n",
       "      <td>41882</td>\n",
       "      <td>224</td>\n",
       "      <td>224</td>\n",
       "      <td>11150.03</td>\n",
       "      <td>50.0</td>\n",
       "      <td>0.0</td>\n",
       "    </tr>\n",
       "    <tr>\n",
       "      <th>4</th>\n",
       "      <td>2/21/2010 0:00</td>\n",
       "      <td>0.0</td>\n",
       "      <td>2085400.0</td>\n",
       "      <td>0.0</td>\n",
       "      <td>0.0</td>\n",
       "      <td>0.0</td>\n",
       "      <td>0.000234</td>\n",
       "      <td>0</td>\n",
       "      <td>1.0</td>\n",
       "      <td>0.0</td>\n",
       "      <td>...</td>\n",
       "      <td>689.179876</td>\n",
       "      <td>0.0</td>\n",
       "      <td>218</td>\n",
       "      <td>218</td>\n",
       "      <td>42100</td>\n",
       "      <td>218</td>\n",
       "      <td>218</td>\n",
       "      <td>12266.83</td>\n",
       "      <td>1553.0</td>\n",
       "      <td>0.0</td>\n",
       "    </tr>\n",
       "  </tbody>\n",
       "</table>\n",
       "<p>5 rows × 24 columns</p>\n",
       "</div>"
      ],
      "text/plain": [
       "             Date  btc_market_price  btc_total_bitcoins  btc_market_cap  \\\n",
       "0  2/17/2010 0:00               0.0           2043200.0             0.0   \n",
       "1  2/18/2010 0:00               0.0           2054650.0             0.0   \n",
       "2  2/19/2010 0:00               0.0           2063600.0             0.0   \n",
       "3  2/20/2010 0:00               0.0           2074700.0             0.0   \n",
       "4  2/21/2010 0:00               0.0           2085400.0             0.0   \n",
       "\n",
       "   btc_trade_volume  btc_blocks_size  btc_avg_block_size  \\\n",
       "0               0.0              0.0            0.000235   \n",
       "1               0.0              0.0            0.000241   \n",
       "2               0.0              0.0            0.000228   \n",
       "3               0.0              0.0            0.000218   \n",
       "4               0.0              0.0            0.000234   \n",
       "\n",
       "   btc_n_orphaned_blocks  btc_n_transactions_per_block  \\\n",
       "0                      0                           1.0   \n",
       "1                      0                           1.0   \n",
       "2                      0                           1.0   \n",
       "3                      0                           1.0   \n",
       "4                      0                           1.0   \n",
       "\n",
       "   btc_median_confirmation_time                  ...                   \\\n",
       "0                           0.0                  ...                    \n",
       "1                           0.0                  ...                    \n",
       "2                           0.0                  ...                    \n",
       "3                           0.0                  ...                    \n",
       "4                           0.0                  ...                    \n",
       "\n",
       "   btc_cost_per_transaction_percent  btc_cost_per_transaction  \\\n",
       "0                         31.781022                       0.0   \n",
       "1                        154.463801                       0.0   \n",
       "2                       1278.516635                       0.0   \n",
       "3                      22186.687990                       0.0   \n",
       "4                        689.179876                       0.0   \n",
       "\n",
       "   btc_n_unique_addresses  btc_n_transactions  btc_n_transactions_total  \\\n",
       "0                     241                 244                     41240   \n",
       "1                     234                 235                     41475   \n",
       "2                     185                 183                     41658   \n",
       "3                     224                 224                     41882   \n",
       "4                     218                 218                     42100   \n",
       "\n",
       "   btc_n_transactions_excluding_popular  \\\n",
       "0                                   244   \n",
       "1                                   235   \n",
       "2                                   183   \n",
       "3                                   224   \n",
       "4                                   218   \n",
       "\n",
       "   btc_n_transactions_excluding_chains_longer_than_100  btc_output_volume  \\\n",
       "0                                                244             65173.13   \n",
       "1                                                235             18911.74   \n",
       "2                                                183              9749.98   \n",
       "3                                                224             11150.03   \n",
       "4                                                218             12266.83   \n",
       "\n",
       "   btc_estimated_transaction_volume  btc_estimated_transaction_volume_usd  \n",
       "0                           36500.0                                   0.0  \n",
       "1                            7413.0                                   0.0  \n",
       "2                             700.0                                   0.0  \n",
       "3                              50.0                                   0.0  \n",
       "4                            1553.0                                   0.0  \n",
       "\n",
       "[5 rows x 24 columns]"
      ]
     },
     "execution_count": 2,
     "metadata": {},
     "output_type": "execute_result"
    }
   ],
   "source": [
    "#Loading Dataset for Building the Model\n",
    "data = pd.read_csv('bitcoin_dataset.csv')\n",
    "#Loading the Testing Dataset for Prediction\n",
    "test = pd.read_csv('test_set.csv')\n",
    "data.head()"
   ]
  },
  {
   "cell_type": "markdown",
   "metadata": {},
   "source": [
    "# Modifying Date Format and Drop Null Values"
   ]
  },
  {
   "cell_type": "code",
   "execution_count": 3,
   "metadata": {
    "collapsed": true
   },
   "outputs": [],
   "source": [
    "#Changing Date from String formaat to Data format\n",
    "thelist=[(datetime.strptime(data['Date'][i][0:-5], '%m/%d/%Y')) for i in data.index]\n",
    "df = pd.Series( (v for v in thelist) )\n",
    "data[\"Date\"]=df\n",
    "#Dropping the Null Values\n",
    "data=data.dropna()"
   ]
  },
  {
   "cell_type": "markdown",
   "metadata": {},
   "source": [
    "# Variation of Bit Coin Price with Time"
   ]
  },
  {
   "cell_type": "code",
   "execution_count": 4,
   "metadata": {},
   "outputs": [
    {
     "data": {
      "image/png": "[encoded data removed]",
      "text/plain": [
       "<matplotlib.figure.Figure at 0x264cafe2d68>"
      ]
     },
     "metadata": {},
     "output_type": "display_data"
    }
   ],
   "source": [
    "plt.plot(data['Date'],data['btc_market_price'])\n",
    "plt.xlabel(\"Date\")\n",
    "plt.ylabel(\"Price\")\n",
    "plt.title(\"Variation of Bitcoin\")\n",
    "plt.show()"
   ]
  },
  {
   "cell_type": "markdown",
   "metadata": {},
   "source": [
    "# Correlation between Variables"
   ]
  },
  {
   "cell_type": "code",
   "execution_count": 5,
   "metadata": {},
   "outputs": [
    {
     "data": {
      "text/html": [
       "<div>\n",
       "<style>\n",
       "    .dataframe thead tr:only-child th {\n",
       "        text-align: right;\n",
       "    }\n",
       "\n",
       "    .dataframe thead th {\n",
       "        text-align: left;\n",
       "    }\n",
       "\n",
       "    .dataframe tbody tr th {\n",
       "        vertical-align: top;\n",
       "    }\n",
       "</style>\n",
       "<table border=\"1\" class=\"dataframe\">\n",
       "  <thead>\n",
       "    <tr style=\"text-align: right;\">\n",
       "      <th></th>\n",
       "      <th>btc_market_price</th>\n",
       "      <th>btc_total_bitcoins</th>\n",
       "      <th>btc_market_cap</th>\n",
       "      <th>btc_trade_volume</th>\n",
       "      <th>btc_blocks_size</th>\n",
       "      <th>btc_avg_block_size</th>\n",
       "      <th>btc_n_orphaned_blocks</th>\n",
       "      <th>btc_n_transactions_per_block</th>\n",
       "      <th>btc_median_confirmation_time</th>\n",
       "      <th>btc_hash_rate</th>\n",
       "      <th>...</th>\n",
       "      <th>btc_cost_per_transaction_percent</th>\n",
       "      <th>btc_cost_per_transaction</th>\n",
       "      <th>btc_n_unique_addresses</th>\n",
       "      <th>btc_n_transactions</th>\n",
       "      <th>btc_n_transactions_total</th>\n",
       "      <th>btc_n_transactions_excluding_popular</th>\n",
       "      <th>btc_n_transactions_excluding_chains_longer_than_100</th>\n",
       "      <th>btc_output_volume</th>\n",
       "      <th>btc_estimated_transaction_volume</th>\n",
       "      <th>btc_estimated_transaction_volume_usd</th>\n",
       "    </tr>\n",
       "  </thead>\n",
       "  <tbody>\n",
       "    <tr>\n",
       "      <th>btc_market_price</th>\n",
       "      <td>1.000000</td>\n",
       "      <td>0.390385</td>\n",
       "      <td>0.999786</td>\n",
       "      <td>0.869779</td>\n",
       "      <td>0.676715</td>\n",
       "      <td>0.544035</td>\n",
       "      <td>-0.077427</td>\n",
       "      <td>0.544690</td>\n",
       "      <td>0.275712</td>\n",
       "      <td>0.923315</td>\n",
       "      <td>...</td>\n",
       "      <td>-0.013540</td>\n",
       "      <td>0.816966</td>\n",
       "      <td>0.666254</td>\n",
       "      <td>0.570842</td>\n",
       "      <td>0.682193</td>\n",
       "      <td>0.559400</td>\n",
       "      <td>0.567658</td>\n",
       "      <td>0.110019</td>\n",
       "      <td>0.048918</td>\n",
       "      <td>0.969070</td>\n",
       "    </tr>\n",
       "    <tr>\n",
       "      <th>btc_total_bitcoins</th>\n",
       "      <td>0.390385</td>\n",
       "      <td>1.000000</td>\n",
       "      <td>0.382595</td>\n",
       "      <td>0.286133</td>\n",
       "      <td>0.777524</td>\n",
       "      <td>0.850936</td>\n",
       "      <td>0.278020</td>\n",
       "      <td>0.830744</td>\n",
       "      <td>0.666530</td>\n",
       "      <td>0.483286</td>\n",
       "      <td>...</td>\n",
       "      <td>-0.081161</td>\n",
       "      <td>0.371351</td>\n",
       "      <td>0.819057</td>\n",
       "      <td>0.832103</td>\n",
       "      <td>0.781682</td>\n",
       "      <td>0.813860</td>\n",
       "      <td>0.799113</td>\n",
       "      <td>0.289276</td>\n",
       "      <td>0.207422</td>\n",
       "      <td>0.387308</td>\n",
       "    </tr>\n",
       "    <tr>\n",
       "      <th>btc_market_cap</th>\n",
       "      <td>0.999786</td>\n",
       "      <td>0.382595</td>\n",
       "      <td>1.000000</td>\n",
       "      <td>0.870201</td>\n",
       "      <td>0.675158</td>\n",
       "      <td>0.541507</td>\n",
       "      <td>-0.081567</td>\n",
       "      <td>0.542447</td>\n",
       "      <td>0.272609</td>\n",
       "      <td>0.924588</td>\n",
       "      <td>...</td>\n",
       "      <td>-0.012942</td>\n",
       "      <td>0.807144</td>\n",
       "      <td>0.663216</td>\n",
       "      <td>0.568263</td>\n",
       "      <td>0.680394</td>\n",
       "      <td>0.556817</td>\n",
       "      <td>0.565327</td>\n",
       "      <td>0.110750</td>\n",
       "      <td>0.049474</td>\n",
       "      <td>0.969282</td>\n",
       "    </tr>\n",
       "    <tr>\n",
       "      <th>btc_trade_volume</th>\n",
       "      <td>0.869779</td>\n",
       "      <td>0.286133</td>\n",
       "      <td>0.870201</td>\n",
       "      <td>1.000000</td>\n",
       "      <td>0.527072</td>\n",
       "      <td>0.418645</td>\n",
       "      <td>-0.070331</td>\n",
       "      <td>0.433781</td>\n",
       "      <td>0.218220</td>\n",
       "      <td>0.764058</td>\n",
       "      <td>...</td>\n",
       "      <td>-0.009475</td>\n",
       "      <td>0.691620</td>\n",
       "      <td>0.544256</td>\n",
       "      <td>0.457498</td>\n",
       "      <td>0.531501</td>\n",
       "      <td>0.445550</td>\n",
       "      <td>0.453401</td>\n",
       "      <td>0.095981</td>\n",
       "      <td>0.054143</td>\n",
       "      <td>0.896081</td>\n",
       "    </tr>\n",
       "    <tr>\n",
       "      <th>btc_blocks_size</th>\n",
       "      <td>0.676715</td>\n",
       "      <td>0.777524</td>\n",
       "      <td>0.675158</td>\n",
       "      <td>0.527072</td>\n",
       "      <td>1.000000</td>\n",
       "      <td>0.956417</td>\n",
       "      <td>0.056526</td>\n",
       "      <td>0.946936</td>\n",
       "      <td>0.503175</td>\n",
       "      <td>0.823228</td>\n",
       "      <td>...</td>\n",
       "      <td>-0.030367</td>\n",
       "      <td>0.449656</td>\n",
       "      <td>0.967028</td>\n",
       "      <td>0.950547</td>\n",
       "      <td>0.999778</td>\n",
       "      <td>0.952453</td>\n",
       "      <td>0.961017</td>\n",
       "      <td>0.248305</td>\n",
       "      <td>0.149444</td>\n",
       "      <td>0.677311</td>\n",
       "    </tr>\n",
       "    <tr>\n",
       "      <th>btc_avg_block_size</th>\n",
       "      <td>0.544035</td>\n",
       "      <td>0.850936</td>\n",
       "      <td>0.541507</td>\n",
       "      <td>0.418645</td>\n",
       "      <td>0.956417</td>\n",
       "      <td>1.000000</td>\n",
       "      <td>0.148971</td>\n",
       "      <td>0.977196</td>\n",
       "      <td>0.549520</td>\n",
       "      <td>0.684328</td>\n",
       "      <td>...</td>\n",
       "      <td>-0.037274</td>\n",
       "      <td>0.336923</td>\n",
       "      <td>0.966606</td>\n",
       "      <td>0.977265</td>\n",
       "      <td>0.954604</td>\n",
       "      <td>0.975435</td>\n",
       "      <td>0.968294</td>\n",
       "      <td>0.292025</td>\n",
       "      <td>0.184697</td>\n",
       "      <td>0.554077</td>\n",
       "    </tr>\n",
       "    <tr>\n",
       "      <th>btc_n_orphaned_blocks</th>\n",
       "      <td>-0.077427</td>\n",
       "      <td>0.278020</td>\n",
       "      <td>-0.081567</td>\n",
       "      <td>-0.070331</td>\n",
       "      <td>0.056526</td>\n",
       "      <td>0.148971</td>\n",
       "      <td>1.000000</td>\n",
       "      <td>0.116194</td>\n",
       "      <td>0.065787</td>\n",
       "      <td>-0.091324</td>\n",
       "      <td>...</td>\n",
       "      <td>-0.016069</td>\n",
       "      <td>0.004397</td>\n",
       "      <td>0.123435</td>\n",
       "      <td>0.109478</td>\n",
       "      <td>0.056746</td>\n",
       "      <td>0.117675</td>\n",
       "      <td>0.075269</td>\n",
       "      <td>-0.007548</td>\n",
       "      <td>0.016561</td>\n",
       "      <td>-0.082181</td>\n",
       "    </tr>\n",
       "    <tr>\n",
       "      <th>btc_n_transactions_per_block</th>\n",
       "      <td>0.544690</td>\n",
       "      <td>0.830744</td>\n",
       "      <td>0.542447</td>\n",
       "      <td>0.433781</td>\n",
       "      <td>0.946936</td>\n",
       "      <td>0.977196</td>\n",
       "      <td>0.116194</td>\n",
       "      <td>1.000000</td>\n",
       "      <td>0.554911</td>\n",
       "      <td>0.667065</td>\n",
       "      <td>...</td>\n",
       "      <td>-0.036561</td>\n",
       "      <td>0.319823</td>\n",
       "      <td>0.965730</td>\n",
       "      <td>0.980265</td>\n",
       "      <td>0.945136</td>\n",
       "      <td>0.975778</td>\n",
       "      <td>0.974591</td>\n",
       "      <td>0.293431</td>\n",
       "      <td>0.181676</td>\n",
       "      <td>0.564988</td>\n",
       "    </tr>\n",
       "    <tr>\n",
       "      <th>btc_median_confirmation_time</th>\n",
       "      <td>0.275712</td>\n",
       "      <td>0.666530</td>\n",
       "      <td>0.272609</td>\n",
       "      <td>0.218220</td>\n",
       "      <td>0.503175</td>\n",
       "      <td>0.549520</td>\n",
       "      <td>0.065787</td>\n",
       "      <td>0.554911</td>\n",
       "      <td>1.000000</td>\n",
       "      <td>0.344450</td>\n",
       "      <td>...</td>\n",
       "      <td>-0.056847</td>\n",
       "      <td>0.180035</td>\n",
       "      <td>0.508800</td>\n",
       "      <td>0.540060</td>\n",
       "      <td>0.508689</td>\n",
       "      <td>0.505388</td>\n",
       "      <td>0.530541</td>\n",
       "      <td>0.306452</td>\n",
       "      <td>0.209027</td>\n",
       "      <td>0.281843</td>\n",
       "    </tr>\n",
       "    <tr>\n",
       "      <th>btc_hash_rate</th>\n",
       "      <td>0.923315</td>\n",
       "      <td>0.483286</td>\n",
       "      <td>0.924588</td>\n",
       "      <td>0.764058</td>\n",
       "      <td>0.823228</td>\n",
       "      <td>0.684328</td>\n",
       "      <td>-0.091324</td>\n",
       "      <td>0.667065</td>\n",
       "      <td>0.344450</td>\n",
       "      <td>1.000000</td>\n",
       "      <td>...</td>\n",
       "      <td>-0.015798</td>\n",
       "      <td>0.700391</td>\n",
       "      <td>0.767567</td>\n",
       "      <td>0.696451</td>\n",
       "      <td>0.826837</td>\n",
       "      <td>0.688954</td>\n",
       "      <td>0.707892</td>\n",
       "      <td>0.158165</td>\n",
       "      <td>0.079096</td>\n",
       "      <td>0.892695</td>\n",
       "    </tr>\n",
       "    <tr>\n",
       "      <th>btc_difficulty</th>\n",
       "      <td>0.918243</td>\n",
       "      <td>0.494652</td>\n",
       "      <td>0.919461</td>\n",
       "      <td>0.759803</td>\n",
       "      <td>0.838188</td>\n",
       "      <td>0.702395</td>\n",
       "      <td>-0.091970</td>\n",
       "      <td>0.689810</td>\n",
       "      <td>0.368642</td>\n",
       "      <td>0.990143</td>\n",
       "      <td>...</td>\n",
       "      <td>-0.016205</td>\n",
       "      <td>0.689699</td>\n",
       "      <td>0.773413</td>\n",
       "      <td>0.702043</td>\n",
       "      <td>0.841711</td>\n",
       "      <td>0.695393</td>\n",
       "      <td>0.717474</td>\n",
       "      <td>0.160857</td>\n",
       "      <td>0.080060</td>\n",
       "      <td>0.884637</td>\n",
       "    </tr>\n",
       "    <tr>\n",
       "      <th>btc_miners_revenue</th>\n",
       "      <td>0.987069</td>\n",
       "      <td>0.382199</td>\n",
       "      <td>0.985740</td>\n",
       "      <td>0.875165</td>\n",
       "      <td>0.626965</td>\n",
       "      <td>0.506251</td>\n",
       "      <td>-0.054327</td>\n",
       "      <td>0.506685</td>\n",
       "      <td>0.248307</td>\n",
       "      <td>0.883670</td>\n",
       "      <td>...</td>\n",
       "      <td>-0.014321</td>\n",
       "      <td>0.847889</td>\n",
       "      <td>0.640985</td>\n",
       "      <td>0.543249</td>\n",
       "      <td>0.632965</td>\n",
       "      <td>0.531374</td>\n",
       "      <td>0.529640</td>\n",
       "      <td>0.101879</td>\n",
       "      <td>0.045259</td>\n",
       "      <td>0.959443</td>\n",
       "    </tr>\n",
       "    <tr>\n",
       "      <th>btc_transaction_fees</th>\n",
       "      <td>0.810470</td>\n",
       "      <td>0.467124</td>\n",
       "      <td>0.810973</td>\n",
       "      <td>0.736983</td>\n",
       "      <td>0.744965</td>\n",
       "      <td>0.648258</td>\n",
       "      <td>-0.096990</td>\n",
       "      <td>0.666951</td>\n",
       "      <td>0.414088</td>\n",
       "      <td>0.812348</td>\n",
       "      <td>...</td>\n",
       "      <td>-0.019066</td>\n",
       "      <td>0.595554</td>\n",
       "      <td>0.730699</td>\n",
       "      <td>0.681011</td>\n",
       "      <td>0.750212</td>\n",
       "      <td>0.666037</td>\n",
       "      <td>0.687743</td>\n",
       "      <td>0.175662</td>\n",
       "      <td>0.100570</td>\n",
       "      <td>0.820913</td>\n",
       "    </tr>\n",
       "    <tr>\n",
       "      <th>btc_cost_per_transaction_percent</th>\n",
       "      <td>-0.013540</td>\n",
       "      <td>-0.081161</td>\n",
       "      <td>-0.012942</td>\n",
       "      <td>-0.009475</td>\n",
       "      <td>-0.030367</td>\n",
       "      <td>-0.037274</td>\n",
       "      <td>-0.016069</td>\n",
       "      <td>-0.036561</td>\n",
       "      <td>-0.056847</td>\n",
       "      <td>-0.015798</td>\n",
       "      <td>...</td>\n",
       "      <td>1.000000</td>\n",
       "      <td>-0.025732</td>\n",
       "      <td>-0.034741</td>\n",
       "      <td>-0.036864</td>\n",
       "      <td>-0.031043</td>\n",
       "      <td>-0.034015</td>\n",
       "      <td>-0.033923</td>\n",
       "      <td>-0.025014</td>\n",
       "      <td>-0.027808</td>\n",
       "      <td>-0.013066</td>\n",
       "    </tr>\n",
       "    <tr>\n",
       "      <th>btc_cost_per_transaction</th>\n",
       "      <td>0.816966</td>\n",
       "      <td>0.371351</td>\n",
       "      <td>0.807144</td>\n",
       "      <td>0.691620</td>\n",
       "      <td>0.449656</td>\n",
       "      <td>0.336923</td>\n",
       "      <td>0.004397</td>\n",
       "      <td>0.319823</td>\n",
       "      <td>0.180035</td>\n",
       "      <td>0.700391</td>\n",
       "      <td>...</td>\n",
       "      <td>-0.025732</td>\n",
       "      <td>1.000000</td>\n",
       "      <td>0.458936</td>\n",
       "      <td>0.350211</td>\n",
       "      <td>0.460936</td>\n",
       "      <td>0.344275</td>\n",
       "      <td>0.343562</td>\n",
       "      <td>0.006060</td>\n",
       "      <td>-0.020040</td>\n",
       "      <td>0.751814</td>\n",
       "    </tr>\n",
       "    <tr>\n",
       "      <th>btc_n_unique_addresses</th>\n",
       "      <td>0.666254</td>\n",
       "      <td>0.819057</td>\n",
       "      <td>0.663216</td>\n",
       "      <td>0.544256</td>\n",
       "      <td>0.967028</td>\n",
       "      <td>0.966606</td>\n",
       "      <td>0.123435</td>\n",
       "      <td>0.965730</td>\n",
       "      <td>0.508800</td>\n",
       "      <td>0.767567</td>\n",
       "      <td>...</td>\n",
       "      <td>-0.034741</td>\n",
       "      <td>0.458936</td>\n",
       "      <td>1.000000</td>\n",
       "      <td>0.982049</td>\n",
       "      <td>0.966747</td>\n",
       "      <td>0.981156</td>\n",
       "      <td>0.972460</td>\n",
       "      <td>0.281252</td>\n",
       "      <td>0.170329</td>\n",
       "      <td>0.683698</td>\n",
       "    </tr>\n",
       "    <tr>\n",
       "      <th>btc_n_transactions</th>\n",
       "      <td>0.570842</td>\n",
       "      <td>0.832103</td>\n",
       "      <td>0.568263</td>\n",
       "      <td>0.457498</td>\n",
       "      <td>0.950547</td>\n",
       "      <td>0.977265</td>\n",
       "      <td>0.109478</td>\n",
       "      <td>0.980265</td>\n",
       "      <td>0.540060</td>\n",
       "      <td>0.696451</td>\n",
       "      <td>...</td>\n",
       "      <td>-0.036864</td>\n",
       "      <td>0.350211</td>\n",
       "      <td>0.982049</td>\n",
       "      <td>1.000000</td>\n",
       "      <td>0.949325</td>\n",
       "      <td>0.992849</td>\n",
       "      <td>0.988876</td>\n",
       "      <td>0.306374</td>\n",
       "      <td>0.189457</td>\n",
       "      <td>0.595276</td>\n",
       "    </tr>\n",
       "    <tr>\n",
       "      <th>btc_n_transactions_total</th>\n",
       "      <td>0.682193</td>\n",
       "      <td>0.781682</td>\n",
       "      <td>0.680394</td>\n",
       "      <td>0.531501</td>\n",
       "      <td>0.999778</td>\n",
       "      <td>0.954604</td>\n",
       "      <td>0.056746</td>\n",
       "      <td>0.945136</td>\n",
       "      <td>0.508689</td>\n",
       "      <td>0.826837</td>\n",
       "      <td>...</td>\n",
       "      <td>-0.031043</td>\n",
       "      <td>0.460936</td>\n",
       "      <td>0.966747</td>\n",
       "      <td>0.949325</td>\n",
       "      <td>1.000000</td>\n",
       "      <td>0.950387</td>\n",
       "      <td>0.959765</td>\n",
       "      <td>0.246414</td>\n",
       "      <td>0.148218</td>\n",
       "      <td>0.682032</td>\n",
       "    </tr>\n",
       "    <tr>\n",
       "      <th>btc_n_transactions_excluding_popular</th>\n",
       "      <td>0.559400</td>\n",
       "      <td>0.813860</td>\n",
       "      <td>0.556817</td>\n",
       "      <td>0.445550</td>\n",
       "      <td>0.952453</td>\n",
       "      <td>0.975435</td>\n",
       "      <td>0.117675</td>\n",
       "      <td>0.975778</td>\n",
       "      <td>0.505388</td>\n",
       "      <td>0.688954</td>\n",
       "      <td>...</td>\n",
       "      <td>-0.034015</td>\n",
       "      <td>0.344275</td>\n",
       "      <td>0.981156</td>\n",
       "      <td>0.992849</td>\n",
       "      <td>0.950387</td>\n",
       "      <td>1.000000</td>\n",
       "      <td>0.986793</td>\n",
       "      <td>0.290519</td>\n",
       "      <td>0.182621</td>\n",
       "      <td>0.583224</td>\n",
       "    </tr>\n",
       "    <tr>\n",
       "      <th>btc_n_transactions_excluding_chains_longer_than_100</th>\n",
       "      <td>0.567658</td>\n",
       "      <td>0.799113</td>\n",
       "      <td>0.565327</td>\n",
       "      <td>0.453401</td>\n",
       "      <td>0.961017</td>\n",
       "      <td>0.968294</td>\n",
       "      <td>0.075269</td>\n",
       "      <td>0.974591</td>\n",
       "      <td>0.530541</td>\n",
       "      <td>0.707892</td>\n",
       "      <td>...</td>\n",
       "      <td>-0.033923</td>\n",
       "      <td>0.343562</td>\n",
       "      <td>0.972460</td>\n",
       "      <td>0.988876</td>\n",
       "      <td>0.959765</td>\n",
       "      <td>0.986793</td>\n",
       "      <td>1.000000</td>\n",
       "      <td>0.276296</td>\n",
       "      <td>0.179437</td>\n",
       "      <td>0.590326</td>\n",
       "    </tr>\n",
       "    <tr>\n",
       "      <th>btc_output_volume</th>\n",
       "      <td>0.110019</td>\n",
       "      <td>0.289276</td>\n",
       "      <td>0.110750</td>\n",
       "      <td>0.095981</td>\n",
       "      <td>0.248305</td>\n",
       "      <td>0.292025</td>\n",
       "      <td>-0.007548</td>\n",
       "      <td>0.293431</td>\n",
       "      <td>0.306452</td>\n",
       "      <td>0.158165</td>\n",
       "      <td>...</td>\n",
       "      <td>-0.025014</td>\n",
       "      <td>0.006060</td>\n",
       "      <td>0.281252</td>\n",
       "      <td>0.306374</td>\n",
       "      <td>0.246414</td>\n",
       "      <td>0.290519</td>\n",
       "      <td>0.276296</td>\n",
       "      <td>1.000000</td>\n",
       "      <td>0.267409</td>\n",
       "      <td>0.137245</td>\n",
       "    </tr>\n",
       "    <tr>\n",
       "      <th>btc_estimated_transaction_volume</th>\n",
       "      <td>0.048918</td>\n",
       "      <td>0.207422</td>\n",
       "      <td>0.049474</td>\n",
       "      <td>0.054143</td>\n",
       "      <td>0.149444</td>\n",
       "      <td>0.184697</td>\n",
       "      <td>0.016561</td>\n",
       "      <td>0.181676</td>\n",
       "      <td>0.209027</td>\n",
       "      <td>0.079096</td>\n",
       "      <td>...</td>\n",
       "      <td>-0.027808</td>\n",
       "      <td>-0.020040</td>\n",
       "      <td>0.170329</td>\n",
       "      <td>0.189457</td>\n",
       "      <td>0.148218</td>\n",
       "      <td>0.182621</td>\n",
       "      <td>0.179437</td>\n",
       "      <td>0.267409</td>\n",
       "      <td>1.000000</td>\n",
       "      <td>0.083822</td>\n",
       "    </tr>\n",
       "    <tr>\n",
       "      <th>btc_estimated_transaction_volume_usd</th>\n",
       "      <td>0.969070</td>\n",
       "      <td>0.387308</td>\n",
       "      <td>0.969282</td>\n",
       "      <td>0.896081</td>\n",
       "      <td>0.677311</td>\n",
       "      <td>0.554077</td>\n",
       "      <td>-0.082181</td>\n",
       "      <td>0.564988</td>\n",
       "      <td>0.281843</td>\n",
       "      <td>0.892695</td>\n",
       "      <td>...</td>\n",
       "      <td>-0.013066</td>\n",
       "      <td>0.751814</td>\n",
       "      <td>0.683698</td>\n",
       "      <td>0.595276</td>\n",
       "      <td>0.682032</td>\n",
       "      <td>0.583224</td>\n",
       "      <td>0.590326</td>\n",
       "      <td>0.137245</td>\n",
       "      <td>0.083822</td>\n",
       "      <td>1.000000</td>\n",
       "    </tr>\n",
       "  </tbody>\n",
       "</table>\n",
       "<p>23 rows × 23 columns</p>\n",
       "</div>"
      ],
      "text/plain": [
       "                                                    btc_market_price  \\\n",
       "btc_market_price                                            1.000000   \n",
       "btc_total_bitcoins                                          0.390385   \n",
       "btc_market_cap                                              0.999786   \n",
       "btc_trade_volume                                            0.869779   \n",
       "btc_blocks_size                                             0.676715   \n",
       "btc_avg_block_size                                          0.544035   \n",
       "btc_n_orphaned_blocks                                      -0.077427   \n",
       "btc_n_transactions_per_block                                0.544690   \n",
       "btc_median_confirmation_time                                0.275712   \n",
       "btc_hash_rate                                               0.923315   \n",
       "btc_difficulty                                              0.918243   \n",
       "btc_miners_revenue                                          0.987069   \n",
       "btc_transaction_fees                                        0.810470   \n",
       "btc_cost_per_transaction_percent                           -0.013540   \n",
       "btc_cost_per_transaction                                    0.816966   \n",
       "btc_n_unique_addresses                                      0.666254   \n",
       "btc_n_transactions                                          0.570842   \n",
       "btc_n_transactions_total                                    0.682193   \n",
       "btc_n_transactions_excluding_popular                        0.559400   \n",
       "btc_n_transactions_excluding_chains_longer_than...          0.567658   \n",
       "btc_output_volume                                           0.110019   \n",
       "btc_estimated_transaction_volume                            0.048918   \n",
       "btc_estimated_transaction_volume_usd                        0.969070   \n",
       "\n",
       "                                                    btc_total_bitcoins  \\\n",
       "btc_market_price                                              0.390385   \n",
       "btc_total_bitcoins                                            1.000000   \n",
       "btc_market_cap                                                0.382595   \n",
       "btc_trade_volume                                              0.286133   \n",
       "btc_blocks_size                                               0.777524   \n",
       "btc_avg_block_size                                            0.850936   \n",
       "btc_n_orphaned_blocks                                         0.278020   \n",
       "btc_n_transactions_per_block                                  0.830744   \n",
       "btc_median_confirmation_time                                  0.666530   \n",
       "btc_hash_rate                                                 0.483286   \n",
       "btc_difficulty                                                0.494652   \n",
       "btc_miners_revenue                                            0.382199   \n",
       "btc_transaction_fees                                          0.467124   \n",
       "btc_cost_per_transaction_percent                             -0.081161   \n",
       "btc_cost_per_transaction                                      0.371351   \n",
       "btc_n_unique_addresses                                        0.819057   \n",
       "btc_n_transactions                                            0.832103   \n",
       "btc_n_transactions_total                                      0.781682   \n",
       "btc_n_transactions_excluding_popular                          0.813860   \n",
       "btc_n_transactions_excluding_chains_longer_than...            0.799113   \n",
       "btc_output_volume                                             0.289276   \n",
       "btc_estimated_transaction_volume                              0.207422   \n",
       "btc_estimated_transaction_volume_usd                          0.387308   \n",
       "\n",
       "                                                    btc_market_cap  \\\n",
       "btc_market_price                                          0.999786   \n",
       "btc_total_bitcoins                                        0.382595   \n",
       "btc_market_cap                                            1.000000   \n",
       "btc_trade_volume                                          0.870201   \n",
       "btc_blocks_size                                           0.675158   \n",
       "btc_avg_block_size                                        0.541507   \n",
       "btc_n_orphaned_blocks                                    -0.081567   \n",
       "btc_n_transactions_per_block                              0.542447   \n",
       "btc_median_confirmation_time                              0.272609   \n",
       "btc_hash_rate                                             0.924588   \n",
       "btc_difficulty                                            0.919461   \n",
       "btc_miners_revenue                                        0.985740   \n",
       "btc_transaction_fees                                      0.810973   \n",
       "btc_cost_per_transaction_percent                         -0.012942   \n",
       "btc_cost_per_transaction                                  0.807144   \n",
       "btc_n_unique_addresses                                    0.663216   \n",
       "btc_n_transactions                                        0.568263   \n",
       "btc_n_transactions_total                                  0.680394   \n",
       "btc_n_transactions_excluding_popular                      0.556817   \n",
       "btc_n_transactions_excluding_chains_longer_than...        0.565327   \n",
       "btc_output_volume                                         0.110750   \n",
       "btc_estimated_transaction_volume                          0.049474   \n",
       "btc_estimated_transaction_volume_usd                      0.969282   \n",
       "\n",
       "                                                    btc_trade_volume  \\\n",
       "btc_market_price                                            0.869779   \n",
       "btc_total_bitcoins                                          0.286133   \n",
       "btc_market_cap                                              0.870201   \n",
       "btc_trade_volume                                            1.000000   \n",
       "btc_blocks_size                                             0.527072   \n",
       "btc_avg_block_size                                          0.418645   \n",
       "btc_n_orphaned_blocks                                      -0.070331   \n",
       "btc_n_transactions_per_block                                0.433781   \n",
       "btc_median_confirmation_time                                0.218220   \n",
       "btc_hash_rate                                               0.764058   \n",
       "btc_difficulty                                              0.759803   \n",
       "btc_miners_revenue                                          0.875165   \n",
       "btc_transaction_fees                                        0.736983   \n",
       "btc_cost_per_transaction_percent                           -0.009475   \n",
       "btc_cost_per_transaction                                    0.691620   \n",
       "btc_n_unique_addresses                                      0.544256   \n",
       "btc_n_transactions                                          0.457498   \n",
       "btc_n_transactions_total                                    0.531501   \n",
       "btc_n_transactions_excluding_popular                        0.445550   \n",
       "btc_n_transactions_excluding_chains_longer_than...          0.453401   \n",
       "btc_output_volume                                           0.095981   \n",
       "btc_estimated_transaction_volume                            0.054143   \n",
       "btc_estimated_transaction_volume_usd                        0.896081   \n",
       "\n",
       "                                                    btc_blocks_size  \\\n",
       "btc_market_price                                           0.676715   \n",
       "btc_total_bitcoins                                         0.777524   \n",
       "btc_market_cap                                             0.675158   \n",
       "btc_trade_volume                                           0.527072   \n",
       "btc_blocks_size                                            1.000000   \n",
       "btc_avg_block_size                                         0.956417   \n",
       "btc_n_orphaned_blocks                                      0.056526   \n",
       "btc_n_transactions_per_block                               0.946936   \n",
       "btc_median_confirmation_time                               0.503175   \n",
       "btc_hash_rate                                              0.823228   \n",
       "btc_difficulty                                             0.838188   \n",
       "btc_miners_revenue                                         0.626965   \n",
       "btc_transaction_fees                                       0.744965   \n",
       "btc_cost_per_transaction_percent                          -0.030367   \n",
       "btc_cost_per_transaction                                   0.449656   \n",
       "btc_n_unique_addresses                                     0.967028   \n",
       "btc_n_transactions                                         0.950547   \n",
       "btc_n_transactions_total                                   0.999778   \n",
       "btc_n_transactions_excluding_popular                       0.952453   \n",
       "btc_n_transactions_excluding_chains_longer_than...         0.961017   \n",
       "btc_output_volume                                          0.248305   \n",
       "btc_estimated_transaction_volume                           0.149444   \n",
       "btc_estimated_transaction_volume_usd                       0.677311   \n",
       "\n",
       "                                                    btc_avg_block_size  \\\n",
       "btc_market_price                                              0.544035   \n",
       "btc_total_bitcoins                                            0.850936   \n",
       "btc_market_cap                                                0.541507   \n",
       "btc_trade_volume                                              0.418645   \n",
       "btc_blocks_size                                               0.956417   \n",
       "btc_avg_block_size                                            1.000000   \n",
       "btc_n_orphaned_blocks                                         0.148971   \n",
       "btc_n_transactions_per_block                                  0.977196   \n",
       "btc_median_confirmation_time                                  0.549520   \n",
       "btc_hash_rate                                                 0.684328   \n",
       "btc_difficulty                                                0.702395   \n",
       "btc_miners_revenue                                            0.506251   \n",
       "btc_transaction_fees                                          0.648258   \n",
       "btc_cost_per_transaction_percent                             -0.037274   \n",
       "btc_cost_per_transaction                                      0.336923   \n",
       "btc_n_unique_addresses                                        0.966606   \n",
       "btc_n_transactions                                            0.977265   \n",
       "btc_n_transactions_total                                      0.954604   \n",
       "btc_n_transactions_excluding_popular                          0.975435   \n",
       "btc_n_transactions_excluding_chains_longer_than...            0.968294   \n",
       "btc_output_volume                                             0.292025   \n",
       "btc_estimated_transaction_volume                              0.184697   \n",
       "btc_estimated_transaction_volume_usd                          0.554077   \n",
       "\n",
       "                                                    btc_n_orphaned_blocks  \\\n",
       "btc_market_price                                                -0.077427   \n",
       "btc_total_bitcoins                                               0.278020   \n",
       "btc_market_cap                                                  -0.081567   \n",
       "btc_trade_volume                                                -0.070331   \n",
       "btc_blocks_size                                                  0.056526   \n",
       "btc_avg_block_size                                               0.148971   \n",
       "btc_n_orphaned_blocks                                            1.000000   \n",
       "btc_n_transactions_per_block                                     0.116194   \n",
       "btc_median_confirmation_time                                     0.065787   \n",
       "btc_hash_rate                                                   -0.091324   \n",
       "btc_difficulty                                                  -0.091970   \n",
       "btc_miners_revenue                                              -0.054327   \n",
       "btc_transaction_fees                                            -0.096990   \n",
       "btc_cost_per_transaction_percent                                -0.016069   \n",
       "btc_cost_per_transaction                                         0.004397   \n",
       "btc_n_unique_addresses                                           0.123435   \n",
       "btc_n_transactions                                               0.109478   \n",
       "btc_n_transactions_total                                         0.056746   \n",
       "btc_n_transactions_excluding_popular                             0.117675   \n",
       "btc_n_transactions_excluding_chains_longer_than...               0.075269   \n",
       "btc_output_volume                                               -0.007548   \n",
       "btc_estimated_transaction_volume                                 0.016561   \n",
       "btc_estimated_transaction_volume_usd                            -0.082181   \n",
       "\n",
       "                                                    btc_n_transactions_per_block  \\\n",
       "btc_market_price                                                        0.544690   \n",
       "btc_total_bitcoins                                                      0.830744   \n",
       "btc_market_cap                                                          0.542447   \n",
       "btc_trade_volume                                                        0.433781   \n",
       "btc_blocks_size                                                         0.946936   \n",
       "btc_avg_block_size                                                      0.977196   \n",
       "btc_n_orphaned_blocks                                                   0.116194   \n",
       "btc_n_transactions_per_block                                            1.000000   \n",
       "btc_median_confirmation_time                                            0.554911   \n",
       "btc_hash_rate                                                           0.667065   \n",
       "btc_difficulty                                                          0.689810   \n",
       "btc_miners_revenue                                                      0.506685   \n",
       "btc_transaction_fees                                                    0.666951   \n",
       "btc_cost_per_transaction_percent                                       -0.036561   \n",
       "btc_cost_per_transaction                                                0.319823   \n",
       "btc_n_unique_addresses                                                  0.965730   \n",
       "btc_n_transactions                                                      0.980265   \n",
       "btc_n_transactions_total                                                0.945136   \n",
       "btc_n_transactions_excluding_popular                                    0.975778   \n",
       "btc_n_transactions_excluding_chains_longer_than...                      0.974591   \n",
       "btc_output_volume                                                       0.293431   \n",
       "btc_estimated_transaction_volume                                        0.181676   \n",
       "btc_estimated_transaction_volume_usd                                    0.564988   \n",
       "\n",
       "                                                    btc_median_confirmation_time  \\\n",
       "btc_market_price                                                        0.275712   \n",
       "btc_total_bitcoins                                                      0.666530   \n",
       "btc_market_cap                                                          0.272609   \n",
       "btc_trade_volume                                                        0.218220   \n",
       "btc_blocks_size                                                         0.503175   \n",
       "btc_avg_block_size                                                      0.549520   \n",
       "btc_n_orphaned_blocks                                                   0.065787   \n",
       "btc_n_transactions_per_block                                            0.554911   \n",
       "btc_median_confirmation_time                                            1.000000   \n",
       "btc_hash_rate                                                           0.344450   \n",
       "btc_difficulty                                                          0.368642   \n",
       "btc_miners_revenue                                                      0.248307   \n",
       "btc_transaction_fees                                                    0.414088   \n",
       "btc_cost_per_transaction_percent                                       -0.056847   \n",
       "btc_cost_per_transaction                                                0.180035   \n",
       "btc_n_unique_addresses                                                  0.508800   \n",
       "btc_n_transactions                                                      0.540060   \n",
       "btc_n_transactions_total                                                0.508689   \n",
       "btc_n_transactions_excluding_popular                                    0.505388   \n",
       "btc_n_transactions_excluding_chains_longer_than...                      0.530541   \n",
       "btc_output_volume                                                       0.306452   \n",
       "btc_estimated_transaction_volume                                        0.209027   \n",
       "btc_estimated_transaction_volume_usd                                    0.281843   \n",
       "\n",
       "                                                    btc_hash_rate  \\\n",
       "btc_market_price                                         0.923315   \n",
       "btc_total_bitcoins                                       0.483286   \n",
       "btc_market_cap                                           0.924588   \n",
       "btc_trade_volume                                         0.764058   \n",
       "btc_blocks_size                                          0.823228   \n",
       "btc_avg_block_size                                       0.684328   \n",
       "btc_n_orphaned_blocks                                   -0.091324   \n",
       "btc_n_transactions_per_block                             0.667065   \n",
       "btc_median_confirmation_time                             0.344450   \n",
       "btc_hash_rate                                            1.000000   \n",
       "btc_difficulty                                           0.990143   \n",
       "btc_miners_revenue                                       0.883670   \n",
       "btc_transaction_fees                                     0.812348   \n",
       "btc_cost_per_transaction_percent                        -0.015798   \n",
       "btc_cost_per_transaction                                 0.700391   \n",
       "btc_n_unique_addresses                                   0.767567   \n",
       "btc_n_transactions                                       0.696451   \n",
       "btc_n_transactions_total                                 0.826837   \n",
       "btc_n_transactions_excluding_popular                     0.688954   \n",
       "btc_n_transactions_excluding_chains_longer_than...       0.707892   \n",
       "btc_output_volume                                        0.158165   \n",
       "btc_estimated_transaction_volume                         0.079096   \n",
       "btc_estimated_transaction_volume_usd                     0.892695   \n",
       "\n",
       "                                                                    ...                   \\\n",
       "btc_market_price                                                    ...                    \n",
       "btc_total_bitcoins                                                  ...                    \n",
       "btc_market_cap                                                      ...                    \n",
       "btc_trade_volume                                                    ...                    \n",
       "btc_blocks_size                                                     ...                    \n",
       "btc_avg_block_size                                                  ...                    \n",
       "btc_n_orphaned_blocks                                               ...                    \n",
       "btc_n_transactions_per_block                                        ...                    \n",
       "btc_median_confirmation_time                                        ...                    \n",
       "btc_hash_rate                                                       ...                    \n",
       "btc_difficulty                                                      ...                    \n",
       "btc_miners_revenue                                                  ...                    \n",
       "btc_transaction_fees                                                ...                    \n",
       "btc_cost_per_transaction_percent                                    ...                    \n",
       "btc_cost_per_transaction                                            ...                    \n",
       "btc_n_unique_addresses                                              ...                    \n",
       "btc_n_transactions                                                  ...                    \n",
       "btc_n_transactions_total                                            ...                    \n",
       "btc_n_transactions_excluding_popular                                ...                    \n",
       "btc_n_transactions_excluding_chains_longer_than...                  ...                    \n",
       "btc_output_volume                                                   ...                    \n",
       "btc_estimated_transaction_volume                                    ...                    \n",
       "btc_estimated_transaction_volume_usd                                ...                    \n",
       "\n",
       "                                                    btc_cost_per_transaction_percent  \\\n",
       "btc_market_price                                                           -0.013540   \n",
       "btc_total_bitcoins                                                         -0.081161   \n",
       "btc_market_cap                                                             -0.012942   \n",
       "btc_trade_volume                                                           -0.009475   \n",
       "btc_blocks_size                                                            -0.030367   \n",
       "btc_avg_block_size                                                         -0.037274   \n",
       "btc_n_orphaned_blocks                                                      -0.016069   \n",
       "btc_n_transactions_per_block                                               -0.036561   \n",
       "btc_median_confirmation_time                                               -0.056847   \n",
       "btc_hash_rate                                                              -0.015798   \n",
       "btc_difficulty                                                             -0.016205   \n",
       "btc_miners_revenue                                                         -0.014321   \n",
       "btc_transaction_fees                                                       -0.019066   \n",
       "btc_cost_per_transaction_percent                                            1.000000   \n",
       "btc_cost_per_transaction                                                   -0.025732   \n",
       "btc_n_unique_addresses                                                     -0.034741   \n",
       "btc_n_transactions                                                         -0.036864   \n",
       "btc_n_transactions_total                                                   -0.031043   \n",
       "btc_n_transactions_excluding_popular                                       -0.034015   \n",
       "btc_n_transactions_excluding_chains_longer_than...                         -0.033923   \n",
       "btc_output_volume                                                          -0.025014   \n",
       "btc_estimated_transaction_volume                                           -0.027808   \n",
       "btc_estimated_transaction_volume_usd                                       -0.013066   \n",
       "\n",
       "                                                    btc_cost_per_transaction  \\\n",
       "btc_market_price                                                    0.816966   \n",
       "btc_total_bitcoins                                                  0.371351   \n",
       "btc_market_cap                                                      0.807144   \n",
       "btc_trade_volume                                                    0.691620   \n",
       "btc_blocks_size                                                     0.449656   \n",
       "btc_avg_block_size                                                  0.336923   \n",
       "btc_n_orphaned_blocks                                               0.004397   \n",
       "btc_n_transactions_per_block                                        0.319823   \n",
       "btc_median_confirmation_time                                        0.180035   \n",
       "btc_hash_rate                                                       0.700391   \n",
       "btc_difficulty                                                      0.689699   \n",
       "btc_miners_revenue                                                  0.847889   \n",
       "btc_transaction_fees                                                0.595554   \n",
       "btc_cost_per_transaction_percent                                   -0.025732   \n",
       "btc_cost_per_transaction                                            1.000000   \n",
       "btc_n_unique_addresses                                              0.458936   \n",
       "btc_n_transactions                                                  0.350211   \n",
       "btc_n_transactions_total                                            0.460936   \n",
       "btc_n_transactions_excluding_popular                                0.344275   \n",
       "btc_n_transactions_excluding_chains_longer_than...                  0.343562   \n",
       "btc_output_volume                                                   0.006060   \n",
       "btc_estimated_transaction_volume                                   -0.020040   \n",
       "btc_estimated_transaction_volume_usd                                0.751814   \n",
       "\n",
       "                                                    btc_n_unique_addresses  \\\n",
       "btc_market_price                                                  0.666254   \n",
       "btc_total_bitcoins                                                0.819057   \n",
       "btc_market_cap                                                    0.663216   \n",
       "btc_trade_volume                                                  0.544256   \n",
       "btc_blocks_size                                                   0.967028   \n",
       "btc_avg_block_size                                                0.966606   \n",
       "btc_n_orphaned_blocks                                             0.123435   \n",
       "btc_n_transactions_per_block                                      0.965730   \n",
       "btc_median_confirmation_time                                      0.508800   \n",
       "btc_hash_rate                                                     0.767567   \n",
       "btc_difficulty                                                    0.773413   \n",
       "btc_miners_revenue                                                0.640985   \n",
       "btc_transaction_fees                                              0.730699   \n",
       "btc_cost_per_transaction_percent                                 -0.034741   \n",
       "btc_cost_per_transaction                                          0.458936   \n",
       "btc_n_unique_addresses                                            1.000000   \n",
       "btc_n_transactions                                                0.982049   \n",
       "btc_n_transactions_total                                          0.966747   \n",
       "btc_n_transactions_excluding_popular                              0.981156   \n",
       "btc_n_transactions_excluding_chains_longer_than...                0.972460   \n",
       "btc_output_volume                                                 0.281252   \n",
       "btc_estimated_transaction_volume                                  0.170329   \n",
       "btc_estimated_transaction_volume_usd                              0.683698   \n",
       "\n",
       "                                                    btc_n_transactions  \\\n",
       "btc_market_price                                              0.570842   \n",
       "btc_total_bitcoins                                            0.832103   \n",
       "btc_market_cap                                                0.568263   \n",
       "btc_trade_volume                                              0.457498   \n",
       "btc_blocks_size                                               0.950547   \n",
       "btc_avg_block_size                                            0.977265   \n",
       "btc_n_orphaned_blocks                                         0.109478   \n",
       "btc_n_transactions_per_block                                  0.980265   \n",
       "btc_median_confirmation_time                                  0.540060   \n",
       "btc_hash_rate                                                 0.696451   \n",
       "btc_difficulty                                                0.702043   \n",
       "btc_miners_revenue                                            0.543249   \n",
       "btc_transaction_fees                                          0.681011   \n",
       "btc_cost_per_transaction_percent                             -0.036864   \n",
       "btc_cost_per_transaction                                      0.350211   \n",
       "btc_n_unique_addresses                                        0.982049   \n",
       "btc_n_transactions                                            1.000000   \n",
       "btc_n_transactions_total                                      0.949325   \n",
       "btc_n_transactions_excluding_popular                          0.992849   \n",
       "btc_n_transactions_excluding_chains_longer_than...            0.988876   \n",
       "btc_output_volume                                             0.306374   \n",
       "btc_estimated_transaction_volume                              0.189457   \n",
       "btc_estimated_transaction_volume_usd                          0.595276   \n",
       "\n",
       "                                                    btc_n_transactions_total  \\\n",
       "btc_market_price                                                    0.682193   \n",
       "btc_total_bitcoins                                                  0.781682   \n",
       "btc_market_cap                                                      0.680394   \n",
       "btc_trade_volume                                                    0.531501   \n",
       "btc_blocks_size                                                     0.999778   \n",
       "btc_avg_block_size                                                  0.954604   \n",
       "btc_n_orphaned_blocks                                               0.056746   \n",
       "btc_n_transactions_per_block                                        0.945136   \n",
       "btc_median_confirmation_time                                        0.508689   \n",
       "btc_hash_rate                                                       0.826837   \n",
       "btc_difficulty                                                      0.841711   \n",
       "btc_miners_revenue                                                  0.632965   \n",
       "btc_transaction_fees                                                0.750212   \n",
       "btc_cost_per_transaction_percent                                   -0.031043   \n",
       "btc_cost_per_transaction                                            0.460936   \n",
       "btc_n_unique_addresses                                              0.966747   \n",
       "btc_n_transactions                                                  0.949325   \n",
       "btc_n_transactions_total                                            1.000000   \n",
       "btc_n_transactions_excluding_popular                                0.950387   \n",
       "btc_n_transactions_excluding_chains_longer_than...                  0.959765   \n",
       "btc_output_volume                                                   0.246414   \n",
       "btc_estimated_transaction_volume                                    0.148218   \n",
       "btc_estimated_transaction_volume_usd                                0.682032   \n",
       "\n",
       "                                                    btc_n_transactions_excluding_popular  \\\n",
       "btc_market_price                                                                0.559400   \n",
       "btc_total_bitcoins                                                              0.813860   \n",
       "btc_market_cap                                                                  0.556817   \n",
       "btc_trade_volume                                                                0.445550   \n",
       "btc_blocks_size                                                                 0.952453   \n",
       "btc_avg_block_size                                                              0.975435   \n",
       "btc_n_orphaned_blocks                                                           0.117675   \n",
       "btc_n_transactions_per_block                                                    0.975778   \n",
       "btc_median_confirmation_time                                                    0.505388   \n",
       "btc_hash_rate                                                                   0.688954   \n",
       "btc_difficulty                                                                  0.695393   \n",
       "btc_miners_revenue                                                              0.531374   \n",
       "btc_transaction_fees                                                            0.666037   \n",
       "btc_cost_per_transaction_percent                                               -0.034015   \n",
       "btc_cost_per_transaction                                                        0.344275   \n",
       "btc_n_unique_addresses                                                          0.981156   \n",
       "btc_n_transactions                                                              0.992849   \n",
       "btc_n_transactions_total                                                        0.950387   \n",
       "btc_n_transactions_excluding_popular                                            1.000000   \n",
       "btc_n_transactions_excluding_chains_longer_than...                              0.986793   \n",
       "btc_output_volume                                                               0.290519   \n",
       "btc_estimated_transaction_volume                                                0.182621   \n",
       "btc_estimated_transaction_volume_usd                                            0.583224   \n",
       "\n",
       "                                                    btc_n_transactions_excluding_chains_longer_than_100  \\\n",
       "btc_market_price                                                                             0.567658     \n",
       "btc_total_bitcoins                                                                           0.799113     \n",
       "btc_market_cap                                                                               0.565327     \n",
       "btc_trade_volume                                                                             0.453401     \n",
       "btc_blocks_size                                                                              0.961017     \n",
       "btc_avg_block_size                                                                           0.968294     \n",
       "btc_n_orphaned_blocks                                                                        0.075269     \n",
       "btc_n_transactions_per_block                                                                 0.974591     \n",
       "btc_median_confirmation_time                                                                 0.530541     \n",
       "btc_hash_rate                                                                                0.707892     \n",
       "btc_difficulty                                                                               0.717474     \n",
       "btc_miners_revenue                                                                           0.529640     \n",
       "btc_transaction_fees                                                                         0.687743     \n",
       "btc_cost_per_transaction_percent                                                            -0.033923     \n",
       "btc_cost_per_transaction                                                                     0.343562     \n",
       "btc_n_unique_addresses                                                                       0.972460     \n",
       "btc_n_transactions                                                                           0.988876     \n",
       "btc_n_transactions_total                                                                     0.959765     \n",
       "btc_n_transactions_excluding_popular                                                         0.986793     \n",
       "btc_n_transactions_excluding_chains_longer_than...                                           1.000000     \n",
       "btc_output_volume                                                                            0.276296     \n",
       "btc_estimated_transaction_volume                                                             0.179437     \n",
       "btc_estimated_transaction_volume_usd                                                         0.590326     \n",
       "\n",
       "                                                    btc_output_volume  \\\n",
       "btc_market_price                                             0.110019   \n",
       "btc_total_bitcoins                                           0.289276   \n",
       "btc_market_cap                                               0.110750   \n",
       "btc_trade_volume                                             0.095981   \n",
       "btc_blocks_size                                              0.248305   \n",
       "btc_avg_block_size                                           0.292025   \n",
       "btc_n_orphaned_blocks                                       -0.007548   \n",
       "btc_n_transactions_per_block                                 0.293431   \n",
       "btc_median_confirmation_time                                 0.306452   \n",
       "btc_hash_rate                                                0.158165   \n",
       "btc_difficulty                                               0.160857   \n",
       "btc_miners_revenue                                           0.101879   \n",
       "btc_transaction_fees                                         0.175662   \n",
       "btc_cost_per_transaction_percent                            -0.025014   \n",
       "btc_cost_per_transaction                                     0.006060   \n",
       "btc_n_unique_addresses                                       0.281252   \n",
       "btc_n_transactions                                           0.306374   \n",
       "btc_n_transactions_total                                     0.246414   \n",
       "btc_n_transactions_excluding_popular                         0.290519   \n",
       "btc_n_transactions_excluding_chains_longer_than...           0.276296   \n",
       "btc_output_volume                                            1.000000   \n",
       "btc_estimated_transaction_volume                             0.267409   \n",
       "btc_estimated_transaction_volume_usd                         0.137245   \n",
       "\n",
       "                                                    btc_estimated_transaction_volume  \\\n",
       "btc_market_price                                                            0.048918   \n",
       "btc_total_bitcoins                                                          0.207422   \n",
       "btc_market_cap                                                              0.049474   \n",
       "btc_trade_volume                                                            0.054143   \n",
       "btc_blocks_size                                                             0.149444   \n",
       "btc_avg_block_size                                                          0.184697   \n",
       "btc_n_orphaned_blocks                                                       0.016561   \n",
       "btc_n_transactions_per_block                                                0.181676   \n",
       "btc_median_confirmation_time                                                0.209027   \n",
       "btc_hash_rate                                                               0.079096   \n",
       "btc_difficulty                                                              0.080060   \n",
       "btc_miners_revenue                                                          0.045259   \n",
       "btc_transaction_fees                                                        0.100570   \n",
       "btc_cost_per_transaction_percent                                           -0.027808   \n",
       "btc_cost_per_transaction                                                   -0.020040   \n",
       "btc_n_unique_addresses                                                      0.170329   \n",
       "btc_n_transactions                                                          0.189457   \n",
       "btc_n_transactions_total                                                    0.148218   \n",
       "btc_n_transactions_excluding_popular                                        0.182621   \n",
       "btc_n_transactions_excluding_chains_longer_than...                          0.179437   \n",
       "btc_output_volume                                                           0.267409   \n",
       "btc_estimated_transaction_volume                                            1.000000   \n",
       "btc_estimated_transaction_volume_usd                                        0.083822   \n",
       "\n",
       "                                                    btc_estimated_transaction_volume_usd  \n",
       "btc_market_price                                                                0.969070  \n",
       "btc_total_bitcoins                                                              0.387308  \n",
       "btc_market_cap                                                                  0.969282  \n",
       "btc_trade_volume                                                                0.896081  \n",
       "btc_blocks_size                                                                 0.677311  \n",
       "btc_avg_block_size                                                              0.554077  \n",
       "btc_n_orphaned_blocks                                                          -0.082181  \n",
       "btc_n_transactions_per_block                                                    0.564988  \n",
       "btc_median_confirmation_time                                                    0.281843  \n",
       "btc_hash_rate                                                                   0.892695  \n",
       "btc_difficulty                                                                  0.884637  \n",
       "btc_miners_revenue                                                              0.959443  \n",
       "btc_transaction_fees                                                            0.820913  \n",
       "btc_cost_per_transaction_percent                                               -0.013066  \n",
       "btc_cost_per_transaction                                                        0.751814  \n",
       "btc_n_unique_addresses                                                          0.683698  \n",
       "btc_n_transactions                                                              0.595276  \n",
       "btc_n_transactions_total                                                        0.682032  \n",
       "btc_n_transactions_excluding_popular                                            0.583224  \n",
       "btc_n_transactions_excluding_chains_longer_than...                              0.590326  \n",
       "btc_output_volume                                                               0.137245  \n",
       "btc_estimated_transaction_volume                                                0.083822  \n",
       "btc_estimated_transaction_volume_usd                                            1.000000  \n",
       "\n",
       "[23 rows x 23 columns]"
      ]
     },
     "execution_count": 5,
     "metadata": {},
     "output_type": "execute_result"
    }
   ],
   "source": [
    "data.corr()"
   ]
  },
  {
   "cell_type": "markdown",
   "metadata": {},
   "source": [
    "# Removing the Independent Variables with High Correlation"
   ]
  },
  {
   "cell_type": "code",
   "execution_count": 6,
   "metadata": {
    "collapsed": true
   },
   "outputs": [],
   "source": [
    "#Important columns for Regression\n",
    "column=['btc_total_bitcoins', 'btc_market_cap','btc_n_orphaned_blocks','btc_median_confirmation_time',\n",
    "       'btc_cost_per_transaction','btc_output_volume', 'btc_estimated_transaction_volume']\n",
    "# Filtered Data for Training the model\n",
    "Xdata=data[column]\n",
    "# Filtered Dataset for Testing the model\n",
    "Tdata=test[column]\n",
    "# Target Variable\n",
    "Ydata=data['btc_market_price']"
   ]
  },
  {
   "cell_type": "markdown",
   "metadata": {},
   "source": [
    "### Variation of Dependent Variable with the change in Independent Variables"
   ]
  },
  {
   "cell_type": "code",
   "execution_count": 7,
   "metadata": {},
   "outputs": [
    {
     "data": {
      "image/png": "[encoded data removed]",
      "text/plain": [
       "<matplotlib.figure.Figure at 0x264cafe2ac8>"
      ]
     },
     "metadata": {},
     "output_type": "display_data"
    },
    {
     "data": {
      "image/png": "[encoded data removed]",
      "text/plain": [
       "<matplotlib.figure.Figure at 0x264cb53e780>"
      ]
     },
     "metadata": {},
     "output_type": "display_data"
    },
    {
     "data": {
      "image/png": "[encoded data removed]",
      "text/plain": [
       "<matplotlib.figure.Figure at 0x264cb5e9eb8>"
      ]
     },
     "metadata": {},
     "output_type": "display_data"
    },
    {
     "data": {
      "image/png": "[encoded data removed]",
      "text/plain": [
       "<matplotlib.figure.Figure at 0x264cb523550>"
      ]
     },
     "metadata": {},
     "output_type": "display_data"
    },
    {
     "data": {
      "image/png": "[encoded data removed]",
      "text/plain": [
       "<matplotlib.figure.Figure at 0x264cb684518>"
      ]
     },
     "metadata": {},
     "output_type": "display_data"
    },
    {
     "data": {
      "image/png": "[encoded data removed]",
      "text/plain": [
       "<matplotlib.figure.Figure at 0x264cb7cfe10>"
      ]
     },
     "metadata": {},
     "output_type": "display_data"
    },
    {
     "data": {
      "image/png": "[encoded data removed]",
      "text/plain": [
       "<matplotlib.figure.Figure at 0x264cb85fef0>"
      ]
     },
     "metadata": {},
     "output_type": "display_data"
    }
   ],
   "source": [
    "for i in column:\n",
    "    plt.plot(data[i],data['btc_market_price'])\n",
    "    plt.xlabel(i)\n",
    "    plt.ylabel(\"Price\")\n",
    "    plt.title(\"Variation of Bitcoin\")\n",
    "    plt.show()"
   ]
  },
  {
   "cell_type": "markdown",
   "metadata": {},
   "source": [
    "# Splitting Data for Training and Testing 75/25"
   ]
  },
  {
   "cell_type": "code",
   "execution_count": 8,
   "metadata": {},
   "outputs": [
    {
     "name": "stdout",
     "output_type": "stream",
     "text": [
      "Shape of Training data\n",
      " Indepenedent Variables :  (2093, 7) Dependent Variables :  (2093,)\n",
      "Shape of Testing data\n",
      " Indepenedent Variables :  (698, 7)  Dependent Variables :  (698,)\n"
     ]
    }
   ],
   "source": [
    "x_train, x_test, y_train, y_test = train_test_split(Xdata,Ydata,random_state=111)\n",
    "print(\"Shape of Training data\\n\", \"Indepenedent Variables : \",x_train.shape,\"Dependent Variables : \",y_train.shape)\n",
    "print(\"Shape of Testing data\\n\", \"Indepenedent Variables : \",x_test.shape,\" Dependent Variables : \",y_test.shape)"
   ]
  },
  {
   "cell_type": "markdown",
   "metadata": {},
   "source": [
    "# Scaling Data"
   ]
  },
  {
   "cell_type": "code",
   "execution_count": 9,
   "metadata": {},
   "outputs": [
    {
     "name": "stdout",
     "output_type": "stream",
     "text": [
      "Shape of Training data\n",
      " Indepenedent Variables :  (2093, 7) Dependent Variables :  (2093,)\n",
      "Shape of Testing data\n",
      " Indepenedent Variables :  (698, 7)  Dependent Variables :  (698,)\n"
     ]
    }
   ],
   "source": [
    "scaler=MinMaxScaler().fit(Xdata)\n",
    "# Scaling the Data for Training the model\n",
    "x_scaled=scaler.fit_transform(Xdata)\n",
    "# Scaling the Testing Data to fit for prediction\n",
    "t_scaled=scaler.transform(Tdata)\n",
    "# Splitting the Scaled Data \n",
    "x_train_scaled, x_test_scaled, y_train_scaled, y_test_scaled = train_test_split(x_scaled,Ydata,random_state=111)\n",
    "print(\"Shape of Training data\\n\", \"Indepenedent Variables : \",x_train_scaled.shape,\"Dependent Variables : \",y_train_scaled.shape)\n",
    "print(\"Shape of Testing data\\n\", \"Indepenedent Variables : \",x_test_scaled.shape,\" Dependent Variables : \",y_test_scaled.shape)"
   ]
  },
  {
   "cell_type": "markdown",
   "metadata": {},
   "source": [
    "# KNN Regressor"
   ]
  },
  {
   "cell_type": "markdown",
   "metadata": {},
   "source": [
    "KNN Regression on Unscaled Data"
   ]
  },
  {
   "cell_type": "code",
   "execution_count": 10,
   "metadata": {},
   "outputs": [
    {
     "name": "stdout",
     "output_type": "stream",
     "text": [
      "The best training score is :  0.9999\n",
      "The best test score is :  0.9997\n",
      "{'n_neighbors': 2}\n",
      "KNeighborsRegressor(algorithm='auto', leaf_size=30, metric='minkowski',\n",
      "          metric_params=None, n_jobs=1, n_neighbors=2, p=2,\n",
      "          weights='uniform')\n"
     ]
    }
   ],
   "source": [
    "# Defining the KNN Regressor\n",
    "knnreg=KNeighborsRegressor()\n",
    "# Defining the number of neighbors for the model\n",
    "k_value={'n_neighbors':range(1,100)}\n",
    "# Defining the GridSearchCV for best accuracy using the different values of n\n",
    "grid=GridSearchCV(knnreg,param_grid=k_value)\n",
    "# Fitting the model\n",
    "grid.fit(x_train,y_train)\n",
    "print(\"The best training score is : \",'%.4f' %grid.score(x_train,y_train))\n",
    "print(\"The best test score is : \",'%.4f' %grid.score(x_test,y_test))\n",
    "# Printing the Best parmeters and Best estimator\n",
    "print(grid.best_params_)\n",
    "print(grid.best_estimator_)"
   ]
  },
  {
   "cell_type": "code",
   "execution_count": 11,
   "metadata": {},
   "outputs": [
    {
     "name": "stdout",
     "output_type": "stream",
     "text": [
      "Mean Cross Validation Score of KNN on Unscaled Data : 0.9996\n"
     ]
    }
   ],
   "source": [
    "print(\"Mean Cross Validation Score of KNN on Unscaled Data :\", \n",
    "      '%.4f' %cross_val_score(KNeighborsRegressor(n_neighbors=2), x_train, y_train, cv = 10).mean())"
   ]
  },
  {
   "cell_type": "markdown",
   "metadata": {},
   "source": [
    "KNN Regression on Scaled Data"
   ]
  },
  {
   "cell_type": "code",
   "execution_count": 12,
   "metadata": {},
   "outputs": [
    {
     "name": "stdout",
     "output_type": "stream",
     "text": [
      "The training score is :  0.9987\n",
      "The test score is :  0.9968  with  {'n_neighbors': 3}\n",
      "{'n_neighbors': 3}\n",
      "KNeighborsRegressor(algorithm='auto', leaf_size=30, metric='minkowski',\n",
      "          metric_params=None, n_jobs=1, n_neighbors=3, p=2,\n",
      "          weights='uniform')\n"
     ]
    }
   ],
   "source": [
    "knnreg=KNeighborsRegressor()\n",
    "# Defining the range of K values\n",
    "k_value={'n_neighbors':range(1,100)}\n",
    "gridscaled=GridSearchCV(knnreg,param_grid=k_value)\n",
    "gridscaled.fit(x_train_scaled,y_train_scaled)\n",
    "print(\"The training score is : \",'%.4f' %gridscaled.score(x_train_scaled,y_train_scaled))\n",
    "print(\"The test score is : \",'%.4f' %gridscaled.score(x_test_scaled,y_test_scaled),\" with \", gridscaled.best_params_)\n",
    "# Printing the Best parmeters and Best estimator\n",
    "print(gridscaled.best_params_)\n",
    "print(gridscaled.best_estimator_)"
   ]
  },
  {
   "cell_type": "code",
   "execution_count": 13,
   "metadata": {},
   "outputs": [
    {
     "name": "stdout",
     "output_type": "stream",
     "text": [
      "Mean Cross Validation Score of KNN on Scaled Data : 0.9969\n"
     ]
    }
   ],
   "source": [
    "print(\"Mean Cross Validation Score of KNN on Scaled Data :\", \n",
    "      '%.4f' %cross_val_score(KNeighborsRegressor(n_neighbors=3), x_train_scaled, y_train_scaled, cv = 10).mean())"
   ]
  },
  {
   "cell_type": "markdown",
   "metadata": {},
   "source": [
    "# Linear Regression"
   ]
  },
  {
   "cell_type": "markdown",
   "metadata": {},
   "source": [
    "Linear Regression on Unscaled Data"
   ]
  },
  {
   "cell_type": "code",
   "execution_count": 14,
   "metadata": {},
   "outputs": [
    {
     "name": "stdout",
     "output_type": "stream",
     "text": [
      "The best training score is :  0.9999\n",
      "The best test score is :  0.9999\n"
     ]
    }
   ],
   "source": [
    "# Defining the Linear Regressor and Fitting the model on unscaled data\n",
    "linreg=LinearRegression().fit(x_train,y_train)\n",
    "print(\"The best training score is : \",'%.4f' %linreg.score(x_train,y_train))\n",
    "print(\"The best test score is : \",'%.4f' %linreg.score(x_test,y_test))"
   ]
  },
  {
   "cell_type": "code",
   "execution_count": 15,
   "metadata": {},
   "outputs": [
    {
     "name": "stdout",
     "output_type": "stream",
     "text": [
      "Mean Cross Validation Score of Linear Regression on Unscaled Data : 0.9999\n"
     ]
    }
   ],
   "source": [
    "print(\"Mean Cross Validation Score of Linear Regression on Unscaled Data :\", \n",
    "      '%.4f' %cross_val_score(LinearRegression(), x_train, y_train, cv = 10).mean())"
   ]
  },
  {
   "cell_type": "markdown",
   "metadata": {},
   "source": [
    "Linear Regression on Scaled Data"
   ]
  },
  {
   "cell_type": "code",
   "execution_count": 16,
   "metadata": {},
   "outputs": [
    {
     "name": "stdout",
     "output_type": "stream",
     "text": [
      "The best training score is :  0.9999\n",
      "The best test score is :  0.9999\n"
     ]
    }
   ],
   "source": [
    "# Defining the Linear Regressor and Fitting the model on scaled data\n",
    "linregscaled=LinearRegression().fit(x_train_scaled,y_train_scaled)\n",
    "print(\"The best training score is : \",'%.4f' %linregscaled.score(x_train_scaled,y_train_scaled))\n",
    "print(\"The best test score is : \",'%.4f' %linregscaled.score(x_test_scaled,y_test_scaled))"
   ]
  },
  {
   "cell_type": "code",
   "execution_count": 17,
   "metadata": {},
   "outputs": [
    {
     "name": "stdout",
     "output_type": "stream",
     "text": [
      "Mean Cross Validation Score of Linear Regression on Scaled Data : 0.9999\n"
     ]
    }
   ],
   "source": [
    "print(\"Mean Cross Validation Score of Linear Regression on Scaled Data :\", \n",
    "      '%.4f' %cross_val_score(LinearRegression(), x_train_scaled, y_train_scaled, cv = 10).mean())"
   ]
  },
  {
   "cell_type": "markdown",
   "metadata": {},
   "source": [
    "# Ridge Regression"
   ]
  },
  {
   "cell_type": "markdown",
   "metadata": {},
   "source": [
    "Ridge Regression on Unscaled Data"
   ]
  },
  {
   "cell_type": "code",
   "execution_count": 18,
   "metadata": {},
   "outputs": [
    {
     "name": "stdout",
     "output_type": "stream",
     "text": [
      "The training score is :  0.9999\n",
      "The test score is :  0.9999  with  {'alpha': 25}\n",
      "{'alpha': 25}\n",
      "Ridge(alpha=25, copy_X=True, fit_intercept=True, max_iter=None,\n",
      "   normalize=False, random_state=None, solver='auto', tol=0.001)\n"
     ]
    }
   ],
   "source": [
    "# Defining the Ridge Regressor\n",
    "linridge=Ridge()\n",
    "alpha={'alpha':[0.1,1,5,10,15,20,25]}\n",
    "gridridge=GridSearchCV(linridge,param_grid=alpha)\n",
    "# Fitting the model on Unscaled data\n",
    "gridridge.fit(x_train,y_train)\n",
    "print(\"The training score is : \",'%.4f' %gridridge.score(x_train,y_train))\n",
    "print(\"The test score is : \",'%.4f' %gridridge.score(x_test,y_test),\" with \", gridridge.best_params_)\n",
    "# Printing the Best parmeters and Best estimator\n",
    "print(gridridge.best_params_)\n",
    "print(gridridge.best_estimator_)"
   ]
  },
  {
   "cell_type": "code",
   "execution_count": 19,
   "metadata": {},
   "outputs": [
    {
     "name": "stdout",
     "output_type": "stream",
     "text": [
      "Mean Cross Validation Score of Ridge Regression on Unscaled Data : 0.9999\n"
     ]
    }
   ],
   "source": [
    "print(\"Mean Cross Validation Score of Ridge Regression on Unscaled Data :\", \n",
    "      '%.4f' %cross_val_score(Ridge(alpha=25), x_train, y_train, cv = 10).mean())"
   ]
  },
  {
   "cell_type": "code",
   "execution_count": 20,
   "metadata": {},
   "outputs": [
    {
     "name": "stdout",
     "output_type": "stream",
     "text": [
      "The training score is :  -352911110978690.0000\n",
      "The test score is :  -354105343346250.3125\n",
      "15865639761.3 [  3.96072865e-04  -1.11962891e+00  -3.12040134e-01   1.85698696e-01\n",
      "   3.07146442e+00   5.94258308e-05   1.95391476e-06]\n",
      "Number of non zero Coef :  7\n",
      "Number of Important Coef :  2\n"
     ]
    }
   ],
   "source": [
    "# Defining the RidgeCv\n",
    "linridge=RidgeCV()\n",
    "# Fitting the model \n",
    "linridge.fit(x_train,y_train)\n",
    "print(\"The training score is : \",'%.4f' %linridge.score(x_train,y_train))\n",
    "print(\"The test score is : \",'%.4f' %linridge.score(x_test,y_test))\n",
    "# Intercepts and Coefficients in the regression\n",
    "print(linridge.intercept_,linridge.coef_)\n",
    "print(\"Number of non zero Coef : \",np.sum(linridge.coef_ != 0))\n",
    "print(\"Number of Important Coef : \",np.sum(abs(linridge.coef_) > 1))"
   ]
  },
  {
   "cell_type": "markdown",
   "metadata": {},
   "source": [
    "Ridge Regression on Scaled Data"
   ]
  },
  {
   "cell_type": "code",
   "execution_count": 21,
   "metadata": {},
   "outputs": [
    {
     "name": "stdout",
     "output_type": "stream",
     "text": [
      "The training score is :  0.9999\n",
      "The test score is :  0.9999  with  {'alpha': 0.1}\n",
      "{'alpha': 0.1}\n",
      "Ridge(alpha=0.1, copy_X=True, fit_intercept=True, max_iter=None,\n",
      "   normalize=False, random_state=None, solver='auto', tol=0.001)\n"
     ]
    }
   ],
   "source": [
    "linridgescaled=Ridge()\n",
    "alpha={'alpha':[0.1,1,5,10,15,20,25]}\n",
    "gridridgescaled=GridSearchCV(linridgescaled,param_grid=alpha)\n",
    "# Fitting the model\n",
    "gridridgescaled.fit(x_train_scaled,y_train_scaled)\n",
    "print(\"The training score is : \",'%.4f' %gridridgescaled.score(x_train_scaled,y_train_scaled))\n",
    "print(\"The test score is : \",'%.4f' %gridridgescaled.score(x_test_scaled,y_test_scaled),\" with \", gridridgescaled.best_params_)\n",
    "# Printing the Best parmeters and Best estimator\n",
    "print(gridridgescaled.best_params_)\n",
    "print(gridridgescaled.best_estimator_)"
   ]
  },
  {
   "cell_type": "code",
   "execution_count": 22,
   "metadata": {},
   "outputs": [
    {
     "name": "stdout",
     "output_type": "stream",
     "text": [
      "Mean Cross Validation Score of Ridge Regression on Scaled Data : 0.9999\n"
     ]
    }
   ],
   "source": [
    "print(\"Mean Cross Validation Score of Ridge Regression on Scaled Data :\", \n",
    "      '%.4f' %cross_val_score(Ridge(alpha=0.1), x_train_scaled, y_train_scaled, cv = 10).mean())"
   ]
  },
  {
   "cell_type": "code",
   "execution_count": 23,
   "metadata": {},
   "outputs": [
    {
     "name": "stdout",
     "output_type": "stream",
     "text": [
      "The training score is :  0.9999\n",
      "The test score is :  0.9999\n",
      "Number of non zero Coef :  7\n",
      "Number of Important Coef :  6\n"
     ]
    }
   ],
   "source": [
    "linridgescaled=RidgeCV()\n",
    "# Fittinf the model on Scaled data\n",
    "linridgescaled.fit(x_train_scaled,y_train_scaled)\n",
    "print(\"The training score is : \",'%.4f' %linridgescaled.score(x_train_scaled,y_train_scaled))\n",
    "print(\"The test score is : \",'%.4f' %linridgescaled.score(x_test_scaled,y_test_scaled))\n",
    "# Number of non zero Coefficients\n",
    "print(\"Number of non zero Coef : \",np.sum(linridgescaled.coef_ != 0))\n",
    "# Number of important Coefficients\n",
    "print(\"Number of Important Coef : \",np.sum(abs(linridgescaled.coef_) > 1))"
   ]
  },
  {
   "cell_type": "markdown",
   "metadata": {},
   "source": [
    "# Lasso Regression"
   ]
  },
  {
   "cell_type": "markdown",
   "metadata": {},
   "source": [
    "Lasso Regression on Unscaled Data"
   ]
  },
  {
   "cell_type": "code",
   "execution_count": 24,
   "metadata": {},
   "outputs": [
    {
     "name": "stdout",
     "output_type": "stream",
     "text": [
      "The training score is :  0.9999\n",
      "The test score is :  0.9999  with  {'alpha': 0.1, 'max_iter': 100}\n",
      "{'alpha': 0.1, 'max_iter': 100}\n",
      "Lasso(alpha=0.1, copy_X=True, fit_intercept=True, max_iter=100,\n",
      "   normalize=False, positive=False, precompute=False, random_state=None,\n",
      "   selection='cyclic', tol=0.0001, warm_start=False)\n"
     ]
    }
   ],
   "source": [
    "# Defining the Lasso Model\n",
    "linlasso=Lasso()\n",
    "param={'alpha':[0.1,1,5,10,15,20,25], 'max_iter':[10,100,1000,10000]}\n",
    "gridlasso=GridSearchCV(linlasso,param_grid=param)\n",
    "# Fitting the Model on Unscaled Data\n",
    "gridlasso.fit(x_train,y_train)\n",
    "print(\"The training score is : \",'%.4f' %gridlasso.score(x_train,y_train))\n",
    "print(\"The test score is : \",'%.4f' %gridlasso.score(x_test,y_test),\" with \", gridlasso.best_params_)\n",
    "# Printing the Best parmeters and Best estimator\n",
    "print(gridlasso.best_params_)\n",
    "print(gridlasso.best_estimator_)"
   ]
  },
  {
   "cell_type": "code",
   "execution_count": 25,
   "metadata": {},
   "outputs": [
    {
     "name": "stdout",
     "output_type": "stream",
     "text": [
      "Mean Cross Validation Score of Lasso Regression on Unscaled Data : 0.9999\n"
     ]
    }
   ],
   "source": [
    "print(\"Mean Cross Validation Score of Lasso Regression on Unscaled Data :\", \n",
    "      '%.4f' %cross_val_score(Lasso(alpha=0.1, max_iter=100), x_train, y_train, cv = 10).mean())"
   ]
  },
  {
   "cell_type": "code",
   "execution_count": 26,
   "metadata": {},
   "outputs": [
    {
     "name": "stdout",
     "output_type": "stream",
     "text": [
      "The training score is :  0.9996\n",
      "The test score is :  0.9995\n",
      "Number of Important Coef :  1\n"
     ]
    }
   ],
   "source": [
    "# Defining the Lasso Model with build in Cross Validation\n",
    "linlasso=LassoCV()\n",
    "# Training the model\n",
    "linlasso.fit(x_train,y_train)\n",
    "print(\"The training score is : \",'%.4f' %linlasso.score(x_train,y_train))\n",
    "print(\"The test score is : \",'%.4f' %linlasso.score(x_test,y_test))\n",
    "print(\"Number of Important Coef : \",np.sum(linlasso.coef_ != 0))"
   ]
  },
  {
   "cell_type": "markdown",
   "metadata": {},
   "source": [
    "Lasso Regression on Scaled Data"
   ]
  },
  {
   "cell_type": "code",
   "execution_count": 27,
   "metadata": {},
   "outputs": [
    {
     "name": "stderr",
     "output_type": "stream",
     "text": [
      "C:\\Users\\satya\\Anaconda3\\lib\\site-packages\\sklearn\\linear_model\\coordinate_descent.py:484: ConvergenceWarning: Objective did not converge. You might want to increase the number of iterations. Fitting data with very small alpha may cause precision problems.\n",
      "  ConvergenceWarning)\n",
      "C:\\Users\\satya\\Anaconda3\\lib\\site-packages\\sklearn\\linear_model\\coordinate_descent.py:484: ConvergenceWarning: Objective did not converge. You might want to increase the number of iterations. Fitting data with very small alpha may cause precision problems.\n",
      "  ConvergenceWarning)\n",
      "C:\\Users\\satya\\Anaconda3\\lib\\site-packages\\sklearn\\linear_model\\coordinate_descent.py:484: ConvergenceWarning: Objective did not converge. You might want to increase the number of iterations. Fitting data with very small alpha may cause precision problems.\n",
      "  ConvergenceWarning)\n",
      "C:\\Users\\satya\\Anaconda3\\lib\\site-packages\\sklearn\\linear_model\\coordinate_descent.py:484: ConvergenceWarning: Objective did not converge. You might want to increase the number of iterations. Fitting data with very small alpha may cause precision problems.\n",
      "  ConvergenceWarning)\n",
      "C:\\Users\\satya\\Anaconda3\\lib\\site-packages\\sklearn\\linear_model\\coordinate_descent.py:484: ConvergenceWarning: Objective did not converge. You might want to increase the number of iterations. Fitting data with very small alpha may cause precision problems.\n",
      "  ConvergenceWarning)\n",
      "C:\\Users\\satya\\Anaconda3\\lib\\site-packages\\sklearn\\linear_model\\coordinate_descent.py:484: ConvergenceWarning: Objective did not converge. You might want to increase the number of iterations. Fitting data with very small alpha may cause precision problems.\n",
      "  ConvergenceWarning)\n",
      "C:\\Users\\satya\\Anaconda3\\lib\\site-packages\\sklearn\\linear_model\\coordinate_descent.py:484: ConvergenceWarning: Objective did not converge. You might want to increase the number of iterations. Fitting data with very small alpha may cause precision problems.\n",
      "  ConvergenceWarning)\n",
      "C:\\Users\\satya\\Anaconda3\\lib\\site-packages\\sklearn\\linear_model\\coordinate_descent.py:484: ConvergenceWarning: Objective did not converge. You might want to increase the number of iterations. Fitting data with very small alpha may cause precision problems.\n",
      "  ConvergenceWarning)\n",
      "C:\\Users\\satya\\Anaconda3\\lib\\site-packages\\sklearn\\linear_model\\coordinate_descent.py:484: ConvergenceWarning: Objective did not converge. You might want to increase the number of iterations. Fitting data with very small alpha may cause precision problems.\n",
      "  ConvergenceWarning)\n",
      "C:\\Users\\satya\\Anaconda3\\lib\\site-packages\\sklearn\\linear_model\\coordinate_descent.py:484: ConvergenceWarning: Objective did not converge. You might want to increase the number of iterations. Fitting data with very small alpha may cause precision problems.\n",
      "  ConvergenceWarning)\n",
      "C:\\Users\\satya\\Anaconda3\\lib\\site-packages\\sklearn\\linear_model\\coordinate_descent.py:484: ConvergenceWarning: Objective did not converge. You might want to increase the number of iterations. Fitting data with very small alpha may cause precision problems.\n",
      "  ConvergenceWarning)\n",
      "C:\\Users\\satya\\Anaconda3\\lib\\site-packages\\sklearn\\linear_model\\coordinate_descent.py:484: ConvergenceWarning: Objective did not converge. You might want to increase the number of iterations. Fitting data with very small alpha may cause precision problems.\n",
      "  ConvergenceWarning)\n",
      "C:\\Users\\satya\\Anaconda3\\lib\\site-packages\\sklearn\\linear_model\\coordinate_descent.py:484: ConvergenceWarning: Objective did not converge. You might want to increase the number of iterations. Fitting data with very small alpha may cause precision problems.\n",
      "  ConvergenceWarning)\n",
      "C:\\Users\\satya\\Anaconda3\\lib\\site-packages\\sklearn\\linear_model\\coordinate_descent.py:484: ConvergenceWarning: Objective did not converge. You might want to increase the number of iterations. Fitting data with very small alpha may cause precision problems.\n",
      "  ConvergenceWarning)\n",
      "C:\\Users\\satya\\Anaconda3\\lib\\site-packages\\sklearn\\linear_model\\coordinate_descent.py:484: ConvergenceWarning: Objective did not converge. You might want to increase the number of iterations. Fitting data with very small alpha may cause precision problems.\n",
      "  ConvergenceWarning)\n"
     ]
    },
    {
     "name": "stdout",
     "output_type": "stream",
     "text": [
      "The training score is :  0.9999\n",
      "The test score is :  0.9999  with  {'alpha': 0.1, 'max_iter': 100}\n",
      "{'alpha': 0.1, 'max_iter': 100}\n",
      "Lasso(alpha=0.1, copy_X=True, fit_intercept=True, max_iter=100,\n",
      "   normalize=False, positive=False, precompute=False, random_state=None,\n",
      "   selection='cyclic', tol=0.0001, warm_start=False)\n"
     ]
    }
   ],
   "source": [
    "linlassoscaled=Lasso()\n",
    "param={'alpha':[0.1,1,5,10,15,20,25], 'max_iter':[10,100,1000,10000]}\n",
    "gridlassoscaled=GridSearchCV(linlassoscaled,param_grid=param)\n",
    "# Training the model on Scaled Data\n",
    "gridlassoscaled.fit(x_train_scaled,y_train_scaled)\n",
    "print(\"The training score is : \",'%.4f' %gridlassoscaled.score(x_train_scaled,y_train_scaled))\n",
    "print(\"The test score is : \",'%.4f' %gridlassoscaled.score(x_test_scaled,y_test_scaled),\" with \", gridlassoscaled.best_params_)\n",
    "# Printing the Best parmeters and Best estimator\n",
    "print(gridlassoscaled.best_params_)\n",
    "print(gridlassoscaled.best_estimator_)"
   ]
  },
  {
   "cell_type": "code",
   "execution_count": 28,
   "metadata": {},
   "outputs": [
    {
     "name": "stdout",
     "output_type": "stream",
     "text": [
      "Mean Cross Validation Score of Lasso Regression on Scaled Data : 0.9999\n"
     ]
    }
   ],
   "source": [
    "print(\"Mean Cross Validation Score of Lasso Regression on Scaled Data :\", \n",
    "      '%.4f' %cross_val_score(Lasso(alpha=0.1, max_iter=100), x_train_scaled, y_train_scaled, cv = 10).mean())"
   ]
  },
  {
   "cell_type": "code",
   "execution_count": 29,
   "metadata": {},
   "outputs": [
    {
     "name": "stdout",
     "output_type": "stream",
     "text": [
      "The training score is :  0.9999\n",
      "The test score is :  0.9999\n",
      "Number of non zero Coef :  3\n",
      "Number of Important Coef :  3\n"
     ]
    }
   ],
   "source": [
    "linlassoscaled=LassoCV()\n",
    "# Fitting the model\n",
    "linlassoscaled.fit(x_train_scaled,y_train_scaled)\n",
    "print(\"The training score is : \",'%.4f' %linlassoscaled.score(x_train_scaled,y_train_scaled))\n",
    "print(\"The test score is : \",'%.4f' %linlassoscaled.score(x_test_scaled,y_test_scaled))\n",
    "print(\"Number of non zero Coef : \",np.sum(linlassoscaled.coef_ != 0))\n",
    "print(\"Number of Important Coef : \",np.sum(abs(linlassoscaled.coef_) > 1))"
   ]
  },
  {
   "cell_type": "markdown",
   "metadata": {},
   "source": [
    "# Polynomial Regression"
   ]
  },
  {
   "cell_type": "markdown",
   "metadata": {},
   "source": [
    "Polynomial Regression on Unscaled Data"
   ]
  },
  {
   "cell_type": "code",
   "execution_count": 30,
   "metadata": {},
   "outputs": [
    {
     "name": "stdout",
     "output_type": "stream",
     "text": [
      "The training score is :  1.0000\n",
      "The test score is :  1.0000\n"
     ]
    }
   ],
   "source": [
    "# Defining a Polynomial Model with degree=2\n",
    "poly=PolynomialFeatures(degree=2)\n",
    "# Fitting the training Data with polynimial Features\n",
    "x_poly=poly.fit_transform(Xdata)\n",
    "x_train_poly, x_test_poly, y_train_poly, y_test_poly = train_test_split(x_poly,Ydata)\n",
    "linregpoly=LinearRegression().fit(x_train_poly,y_train_poly)\n",
    "print(\"The training score is : \",'%.4f' %linregpoly.score(x_train_poly,y_train_poly))\n",
    "print(\"The test score is : \",'%.4f' %linregpoly.score(x_test_poly,y_test_poly))"
   ]
  },
  {
   "cell_type": "code",
   "execution_count": 31,
   "metadata": {},
   "outputs": [
    {
     "name": "stdout",
     "output_type": "stream",
     "text": [
      "Mean Cross Validation Score of Polynomial Regression on Unscaled Data : 1.0000\n"
     ]
    }
   ],
   "source": [
    "print(\"Mean Cross Validation Score of Polynomial Regression on Unscaled Data :\", \n",
    "      '%.4f' %cross_val_score(LinearRegression(), x_train_poly, y_train_poly, cv = 10).mean())"
   ]
  },
  {
   "cell_type": "markdown",
   "metadata": {},
   "source": [
    "Polynomial Regression on Scaled Data"
   ]
  },
  {
   "cell_type": "code",
   "execution_count": 32,
   "metadata": {},
   "outputs": [
    {
     "name": "stdout",
     "output_type": "stream",
     "text": [
      "The training score is :  1.0000\n",
      "The test score is :  1.0000\n"
     ]
    }
   ],
   "source": [
    "poly=PolynomialFeatures(degree=2)\n",
    "# Fitting the polynomial Features on Scaled Data\n",
    "x_poly_scaled=poly.fit_transform(x_scaled)\n",
    "t_poly_scaled=poly.transform(t_scaled)\n",
    "x_train_poly_scaled, x_test_poly_scaled, y_train_poly_scaled, y_test_poly_scaled = train_test_split(x_poly_scaled,Ydata)\n",
    "# Training the polynomial Regression using Linear Regression\n",
    "linregpolyscaled=LinearRegression().fit(x_train_poly_scaled,y_train_poly_scaled)\n",
    "print(\"The training score is : \",'%.4f' %linregpolyscaled.score(x_train_poly_scaled,y_train_poly_scaled))\n",
    "print(\"The test score is : \",'%.4f' %linregpolyscaled.score(x_test_poly_scaled,y_test_poly_scaled))"
   ]
  },
  {
   "cell_type": "code",
   "execution_count": 33,
   "metadata": {},
   "outputs": [
    {
     "name": "stdout",
     "output_type": "stream",
     "text": [
      "Mean Cross Validation Score of Polynomial Regression on Scaled Data : 1.0000\n"
     ]
    }
   ],
   "source": [
    "print(\"Mean Cross Validation Score of Polynomial Regression on Scaled Data :\", \n",
    "      '%.4f' %cross_val_score(LinearRegression(), x_train_poly_scaled, y_train_poly_scaled, cv = 10).mean())"
   ]
  },
  {
   "cell_type": "markdown",
   "metadata": {},
   "source": [
    "# SVM"
   ]
  },
  {
   "cell_type": "markdown",
   "metadata": {},
   "source": [
    "### SVM with out Kernel"
   ]
  },
  {
   "cell_type": "code",
   "execution_count": 34,
   "metadata": {},
   "outputs": [
    {
     "name": "stdout",
     "output_type": "stream",
     "text": [
      "The best training score is :  -0.0597\n",
      "The best test score is :  -0.0480\n"
     ]
    }
   ],
   "source": [
    "# Defining the Support Vector Regressor With out any Kernel and training the model\n",
    "SVreg=SVR().fit(x_train_scaled,y_train_scaled)\n",
    "print(\"The best training score is : \",'%.4f' %SVreg.score(x_train_scaled,y_train_scaled))\n",
    "print(\"The best test score is : \",'%.4f' %SVreg.score(x_test_scaled,y_test_scaled))"
   ]
  },
  {
   "cell_type": "code",
   "execution_count": 35,
   "metadata": {},
   "outputs": [
    {
     "name": "stdout",
     "output_type": "stream",
     "text": [
      "Mean Cross Validation Score of SVR on Scaled Data : -0.0620\n"
     ]
    }
   ],
   "source": [
    "print(\"Mean Cross Validation Score of SVR on Scaled Data :\", \n",
    "      '%.4f' %cross_val_score(SVR(), x_train_scaled, y_train_scaled, cv = 10).mean())"
   ]
  },
  {
   "cell_type": "markdown",
   "metadata": {},
   "source": [
    "### SVM with Kernel"
   ]
  },
  {
   "cell_type": "code",
   "execution_count": 36,
   "metadata": {},
   "outputs": [
    {
     "name": "stdout",
     "output_type": "stream",
     "text": [
      "The training score is :  0.9999\n",
      "The test score is :  0.9999\n",
      "{'C': 10000, 'epsilon': 20}\n",
      "SVR(C=10000, cache_size=200, coef0=0.0, degree=3, epsilon=20, gamma='auto',\n",
      "  kernel='linear', max_iter=-1, shrinking=True, tol=0.001, verbose=False)\n"
     ]
    }
   ],
   "source": [
    "param={'epsilon':[0.1,0.5,1,2,5,10,15,20,25,100], 'C':[1,5,10,20,50,100,1000,10000]}\n",
    "# Defining the Support vector Regressor with Linear Kernel\n",
    "clf=SVR(kernel='linear')\n",
    "gridsvr=GridSearchCV(clf,param)\n",
    "# Training the model\n",
    "gridsvr.fit(x_train_scaled,y_train_scaled)\n",
    "print(\"The training score is : \",'%.4f' %gridsvr.score(x_train_scaled,y_train_scaled))\n",
    "print(\"The test score is : \",'%.4f' %gridsvr.score(x_test_scaled,y_test_scaled))\n",
    "# Printing the Best parmeters and Best estimator\n",
    "print(gridsvr.best_params_)\n",
    "print(gridsvr.best_estimator_)"
   ]
  },
  {
   "cell_type": "code",
   "execution_count": 37,
   "metadata": {},
   "outputs": [
    {
     "name": "stdout",
     "output_type": "stream",
     "text": [
      "Mean Cross Validation Score of Linear SVR on Scaled Data : 0.9999\n"
     ]
    }
   ],
   "source": [
    "print(\"Mean Cross Validation Score of Linear SVR on Scaled Data :\", \n",
    "      '%.4f' %cross_val_score(SVR(kernel='linear', epsilon=20, C=10000), x_train_scaled, y_train_scaled, cv = 10).mean())"
   ]
  },
  {
   "cell_type": "code",
   "execution_count": 38,
   "metadata": {},
   "outputs": [
    {
     "name": "stdout",
     "output_type": "stream",
     "text": [
      "The training score is :  0.9908\n",
      "The test score is :  0.9912\n",
      "{'C': 1000, 'epsilon': 100}\n",
      "SVR(C=1000, cache_size=200, coef0=0.0, degree=3, epsilon=100, gamma='auto',\n",
      "  kernel='rbf', max_iter=-1, shrinking=True, tol=0.001, verbose=False)\n"
     ]
    }
   ],
   "source": [
    "param={'epsilon':[0.1,0.5,1,2,5,10,50,100,500], 'C':[1,5,10,20,50,100,1000]}\n",
    "# Defining the Support vector Regressor with RBF Kernel\n",
    "clfrbf=SVR(kernel='rbf')\n",
    "gridsvrrbf=GridSearchCV(clfrbf,param)\n",
    "# Training the model\n",
    "gridsvrrbf.fit(x_train_scaled,y_train_scaled)\n",
    "print(\"The training score is : \",'%.4f' %gridsvrrbf.score(x_train_scaled,y_train_scaled))\n",
    "print(\"The test score is : \",'%.4f' %gridsvrrbf.score(x_test_scaled,y_test_scaled))\n",
    "# Printing the Best parmeters and Best estimator\n",
    "print(gridsvrrbf.best_params_)\n",
    "print(gridsvrrbf.best_estimator_)"
   ]
  },
  {
   "cell_type": "code",
   "execution_count": 39,
   "metadata": {},
   "outputs": [
    {
     "name": "stdout",
     "output_type": "stream",
     "text": [
      "Mean Cross Validation Score of RBF SVR on Scaled Data : 0.9847\n"
     ]
    }
   ],
   "source": [
    "print(\"Mean Cross Validation Score of RBF SVR on Scaled Data :\", \n",
    "      '%.4f' %cross_val_score(SVR(kernel='rbf', epsilon=100, C=1000), x_train_scaled, y_train_scaled, cv = 10).mean())"
   ]
  },
  {
   "cell_type": "code",
   "execution_count": 40,
   "metadata": {},
   "outputs": [
    {
     "name": "stdout",
     "output_type": "stream",
     "text": [
      "The training score is :  0.9569\n",
      "The test score is :  0.9577\n",
      "{'C': 10000, 'epsilon': 400}\n",
      "SVR(C=10000, cache_size=200, coef0=0.0, degree=3, epsilon=400, gamma='auto',\n",
      "  kernel='poly', max_iter=-1, shrinking=True, tol=0.001, verbose=False)\n"
     ]
    }
   ],
   "source": [
    "param={'epsilon':[0.1,1,10,100,400,500], 'C':[1,5,10,20,50,100,1000,10000]}\n",
    "# Defining the Support vector Regressor with Polynomial Kernel\n",
    "clfpoly=SVR(kernel='poly')\n",
    "gridsvrpoly=GridSearchCV(clfpoly,param)\n",
    "# Training the model\n",
    "gridsvrpoly.fit(x_train_scaled,y_train_scaled)\n",
    "print(\"The training score is : \",'%.4f' %gridsvrpoly.score(x_train_scaled,y_train_scaled))\n",
    "print(\"The test score is : \",'%.4f' %gridsvrpoly.score(x_test_scaled,y_test_scaled))\n",
    "# Printing the Best parmeters and Best estimator\n",
    "print(gridsvrpoly.best_params_)\n",
    "print(gridsvrpoly.best_estimator_)"
   ]
  },
  {
   "cell_type": "code",
   "execution_count": 41,
   "metadata": {},
   "outputs": [
    {
     "name": "stdout",
     "output_type": "stream",
     "text": [
      "Mean Cross Validation Score of Polynomial SVR on Scaled Data : 0.9513\n"
     ]
    }
   ],
   "source": [
    "print(\"Mean Cross Validation Score of Polynomial SVR on Scaled Data :\", \n",
    "      '%.4f' %cross_val_score(SVR(kernel='poly', epsilon=400, C=10000), x_train_scaled, y_train_scaled, cv = 10).mean())"
   ]
  },
  {
   "cell_type": "markdown",
   "metadata": {},
   "source": [
    "# Cross Validation Scores"
   ]
  },
  {
   "cell_type": "code",
   "execution_count": 42,
   "metadata": {
    "scrolled": true
   },
   "outputs": [
    {
     "name": "stdout",
     "output_type": "stream",
     "text": [
      "Mean Cross Validation Score of KNN on Unscaled Data : 0.9996\n",
      "Mean Cross Validation Score of KNN on Scaled Data : 0.9969\n",
      "Mean Cross Validation Score of Linear Regression on Unscaled Data : 0.9999\n",
      "Mean Cross Validation Score of Linear Regression on Scaled Data : 0.9999\n",
      "Mean Cross Validation Score of Ridge Regression on Unscaled Data : 0.9999\n",
      "Mean Cross Validation Score of Ridge Regression on Scaled Data : 0.9999\n",
      "Mean Cross Validation Score of Lasso Regression on Unscaled Data : 0.9999\n",
      "Mean Cross Validation Score of Lasso Regression on Scaled Data : 0.9999\n",
      "Mean Cross Validation Score of Polynomial Regression on Unscaled Data : 1.0000\n",
      "Mean Cross Validation Score of Polynomial Regression on Scaled Data : 1.0000\n",
      "Mean Cross Validation Score of SVR on Scaled Data : -0.0620\n",
      "Mean Cross Validation Score of Linear SVR on Scaled Data : 0.9999\n",
      "Mean Cross Validation Score of RBF SVR on Scaled Data : 0.9847\n",
      "Mean Cross Validation Score of Polynomial SVR on Scaled Data : 0.9513\n"
     ]
    }
   ],
   "source": [
    "print(\"Mean Cross Validation Score of KNN on Unscaled Data :\", \n",
    "      '%.4f' %cross_val_score(KNeighborsRegressor(n_neighbors=2), x_train, y_train, cv = 10).mean())\n",
    "print(\"Mean Cross Validation Score of KNN on Scaled Data :\", \n",
    "      '%.4f' %cross_val_score(KNeighborsRegressor(n_neighbors=3), x_train_scaled, y_train_scaled, cv = 10).mean())\n",
    "print(\"Mean Cross Validation Score of Linear Regression on Unscaled Data :\", \n",
    "      '%.4f' %cross_val_score(LinearRegression(), x_train, y_train, cv = 10).mean())\n",
    "print(\"Mean Cross Validation Score of Linear Regression on Scaled Data :\", \n",
    "      '%.4f' %cross_val_score(LinearRegression(), x_train_scaled, y_train_scaled, cv = 10).mean())\n",
    "print(\"Mean Cross Validation Score of Ridge Regression on Unscaled Data :\", \n",
    "      '%.4f' %cross_val_score(Ridge(alpha=25), x_train, y_train, cv = 10).mean())\n",
    "print(\"Mean Cross Validation Score of Ridge Regression on Scaled Data :\", \n",
    "      '%.4f' %cross_val_score(Ridge(alpha=0.1), x_train_scaled, y_train_scaled, cv = 10).mean())\n",
    "print(\"Mean Cross Validation Score of Lasso Regression on Unscaled Data :\", \n",
    "      '%.4f' %cross_val_score(Lasso(alpha=0.1, max_iter=100), x_train, y_train, cv = 10).mean())\n",
    "print(\"Mean Cross Validation Score of Lasso Regression on Scaled Data :\", \n",
    "      '%.4f' %cross_val_score(Lasso(alpha=0.1, max_iter=100), x_train_scaled, y_train_scaled, cv = 10).mean())\n",
    "print(\"Mean Cross Validation Score of Polynomial Regression on Unscaled Data :\", \n",
    "      '%.4f' %cross_val_score(LinearRegression(), x_train_poly, y_train_poly, cv = 10).mean())\n",
    "print(\"Mean Cross Validation Score of Polynomial Regression on Scaled Data :\", \n",
    "      '%.4f' %cross_val_score(LinearRegression(), x_train_poly_scaled, y_train_poly_scaled, cv = 10).mean())\n",
    "print(\"Mean Cross Validation Score of SVR on Scaled Data :\", \n",
    "      '%.4f' %cross_val_score(SVR(), x_train_scaled, y_train_scaled, cv = 10).mean())\n",
    "print(\"Mean Cross Validation Score of Linear SVR on Scaled Data :\", \n",
    "      '%.4f' %cross_val_score(SVR(kernel='linear', epsilon=20, C=10000), x_train_scaled, y_train_scaled, cv = 10).mean())\n",
    "print(\"Mean Cross Validation Score of RBF SVR on Scaled Data :\", \n",
    "      '%.4f' %cross_val_score(SVR(kernel='rbf', epsilon=100, C=1000), x_train_scaled, y_train_scaled, cv = 10).mean())\n",
    "print(\"Mean Cross Validation Score of Polynomial SVR on Scaled Data :\", \n",
    "      '%.4f' %cross_val_score(SVR(kernel='poly', epsilon=400, C=10000), x_train_scaled, y_train_scaled, cv = 10).mean())"
   ]
  },
  {
   "cell_type": "markdown",
   "metadata": {},
   "source": [
    "# Predicting Testing Data with Top 5 Models"
   ]
  },
  {
   "cell_type": "markdown",
   "metadata": {},
   "source": [
    "### 1. Linear Polynomial Regression"
   ]
  },
  {
   "cell_type": "code",
   "execution_count": 43,
   "metadata": {},
   "outputs": [
    {
     "data": {
      "text/plain": [
       "array([ 9067.68753336,  8889.1500209 ,  9066.12601279,  8395.17037503,\n",
       "        6827.22160366,  7669.29513825,  8083.10846507,  8227.68432795,\n",
       "        8522.02862241,  8306.97502614,  8335.34404471,  8801.33416625,\n",
       "        8587.6877392 ,  9324.86796805])"
      ]
     },
     "execution_count": 43,
     "metadata": {},
     "output_type": "execute_result"
    }
   ],
   "source": [
    "# Predicting the Test Data with a Model with Maximum Accuracy\n",
    "linregpolyscaled.predict(t_poly_scaled)"
   ]
  },
  {
   "cell_type": "markdown",
   "metadata": {},
   "source": [
    "### 2. Lasso Regression"
   ]
  },
  {
   "cell_type": "code",
   "execution_count": 44,
   "metadata": {},
   "outputs": [
    {
     "data": {
      "text/plain": [
       "array([ 9156.6779816 ,  9015.23384025,  9215.12026987,  8597.56679524,\n",
       "        6966.21530725,  7776.3078007 ,  8180.91795777,  8351.27344688,\n",
       "        8650.48652268,  8442.17511812,  8540.49792267,  8971.44775622,\n",
       "        8758.58185349,  9511.28378694])"
      ]
     },
     "execution_count": 44,
     "metadata": {},
     "output_type": "execute_result"
    }
   ],
   "source": [
    "linlassoscaled.predict(t_scaled)"
   ]
  },
  {
   "cell_type": "markdown",
   "metadata": {},
   "source": [
    "### 3. Ridge Regression"
   ]
  },
  {
   "cell_type": "code",
   "execution_count": 45,
   "metadata": {},
   "outputs": [
    {
     "data": {
      "text/plain": [
       "array([ 9143.85551792,  9012.76413161,  9218.30717638,  8617.88056186,\n",
       "        6969.45326734,  7767.4991112 ,  8168.58505592,  8349.37470364,\n",
       "        8647.86666755,  8440.52162408,  8558.278156  ,  8978.8774645 ,\n",
       "        8766.8806404 ,  9521.11597568])"
      ]
     },
     "execution_count": 45,
     "metadata": {},
     "output_type": "execute_result"
    }
   ],
   "source": [
    "linridgescaled.predict(t_scaled)"
   ]
  },
  {
   "cell_type": "markdown",
   "metadata": {},
   "source": [
    "### 4. Linear Regression"
   ]
  },
  {
   "cell_type": "code",
   "execution_count": 46,
   "metadata": {},
   "outputs": [
    {
     "data": {
      "text/plain": [
       "array([ 9164.86170644,  9023.74944541,  9224.59231552,  8607.12987   ,\n",
       "        6972.23081887,  7782.57448128,  8187.99804782,  8359.85620582,\n",
       "        8659.15372584,  8450.353949  ,  8549.72714629,  8980.6322747 ,\n",
       "        8767.90000656,  9521.28009151])"
      ]
     },
     "execution_count": 46,
     "metadata": {},
     "output_type": "execute_result"
    }
   ],
   "source": [
    "linregscaled.predict(t_scaled)"
   ]
  },
  {
   "cell_type": "markdown",
   "metadata": {},
   "source": [
    "### 5. KNN"
   ]
  },
  {
   "cell_type": "code",
   "execution_count": 47,
   "metadata": {},
   "outputs": [
    {
     "data": {
      "text/plain": [
       "array([ 9212.8511585,  8487.7211335,  9212.8511585,  8261.8159085,\n",
       "        7028.5458835,  7800.9575335,  8253.287575 ,  8261.8159085,\n",
       "        8487.7211335,  8261.8159085,  8261.8159085,  8487.7211335,\n",
       "        8487.7211335,  9798.8116915])"
      ]
     },
     "execution_count": 47,
     "metadata": {},
     "output_type": "execute_result"
    }
   ],
   "source": [
    "knn=KNeighborsRegressor(n_neighbors=2)\n",
    "knn=knn.fit(x_train,y_train)\n",
    "knn.predict(Tdata)"
   ]
  },
  {
   "cell_type": "markdown",
   "metadata": {},
   "source": [
    "### 6. Linear SVR"
   ]
  },
  {
   "cell_type": "code",
   "execution_count": 48,
   "metadata": {},
   "outputs": [
    {
     "data": {
      "text/plain": [
       "array([ 9180.51620276,  9039.49005961,  9239.96100875,  8622.26641702,\n",
       "        6984.80101534,  7796.05790029,  8201.5625064 ,  8374.44793699,\n",
       "        8673.92321275,  8464.40453698,  8564.23378297,  8996.0286708 ,\n",
       "        8782.90970399,  9537.3204689 ])"
      ]
     },
     "execution_count": 48,
     "metadata": {},
     "output_type": "execute_result"
    }
   ],
   "source": [
    "linsvr=SVR(kernel='linear', epsilon=20, C=10000)\n",
    "linsvr=linsvr.fit(x_train_scaled,y_train_scaled)\n",
    "linsvr.predict(t_scaled)"
   ]
  },
  {
   "cell_type": "code",
   "execution_count": null,
   "metadata": {
    "collapsed": true
   },
   "outputs": [],
   "source": []
  },
  {
   "cell_type": "code",
   "execution_count": null,
   "metadata": {
    "collapsed": true
   },
   "outputs": [],
   "source": []
  }
 ],
 "metadata": {
  "kernelspec": {
   "display_name": "Python 3",
   "language": "python",
   "name": "python3"
  },
  "language_info": {
   "codemirror_mode": {
    "name": "ipython",
    "version": 3
   },
   "file_extension": ".py",
   "mimetype": "text/x-python",
   "name": "python",
   "nbconvert_exporter": "python",
   "pygments_lexer": "ipython3",
   "version": "3.6.1"
  }
 },
 "nbformat": 4,
 "nbformat_minor": 2
}
